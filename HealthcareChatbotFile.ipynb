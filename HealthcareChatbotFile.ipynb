{
 "cells": [
  {
   "cell_type": "markdown",
   "metadata": {},
   "source": [
    "# **MediAssist: Your Generative AI Healthcare Companion**\n",
    "#### Team Name: MedAssist Masters\n",
    "\n",
    "[![Open in Colab](https://colab.research.google.com/assets/colab-badge.svg)](https://colab.research.google.com/github/haebin827/genai-finalProject/blob/main/HealthcareChatbotFile.ipynb)\n"
   ]
  },
  {
   "cell_type": "code",
   "execution_count": null,
   "metadata": {},
   "outputs": [
    {
     "name": "stdout",
     "output_type": "stream",
     "text": [
      "Current working directory: G:\\내 드라이브\n"
     ]
    }
   ],
   "source": [
    "from google.colab import drive\n",
    "\n",
    "drive.mount('/content/gdrive')\n",
    "\n",
    "%cd gdrive/My Drive"
   ]
  },
  {
   "cell_type": "code",
   "execution_count": 2,
   "metadata": {},
   "outputs": [
    {
     "name": "stdout",
     "output_type": "stream",
     "text": [
      "Note: you may need to restart the kernel to use updated packages.\n",
      "Defaulting to user installation because normal site-packages is not writeableNote: you may need to restart the kernel to use updated packages.\n",
      "\n",
      "Requirement already satisfied: ctransformers in c:\\users\\kkk\\appdata\\roaming\\python\\python312\\site-packages (0.2.27)\n",
      "Requirement already satisfied: huggingface-hub in c:\\users\\kkk\\appdata\\roaming\\python\\python312\\site-packages (from ctransformers) (0.26.3)\n",
      "Requirement already satisfied: py-cpuinfo<10.0.0,>=9.0.0 in c:\\users\\kkk\\appdata\\roaming\\python\\python312\\site-packages (from ctransformers) (9.0.0)\n",
      "Requirement already satisfied: filelock in c:\\users\\kkk\\appdata\\roaming\\python\\python312\\site-packages (from huggingface-hub->ctransformers) (3.16.1)\n",
      "Requirement already satisfied: fsspec>=2023.5.0 in c:\\users\\kkk\\appdata\\roaming\\python\\python312\\site-packages (from huggingface-hub->ctransformers) (2024.10.0)\n",
      "Requirement already satisfied: packaging>=20.9 in c:\\users\\kkk\\appdata\\roaming\\python\\python312\\site-packages (from huggingface-hub->ctransformers) (24.2)\n",
      "Requirement already satisfied: pyyaml>=5.1 in c:\\users\\kkk\\appdata\\roaming\\python\\python312\\site-packages (from huggingface-hub->ctransformers) (6.0.2)\n",
      "Requirement already satisfied: requests in c:\\users\\kkk\\appdata\\roaming\\python\\python312\\site-packages (from huggingface-hub->ctransformers) (2.32.3)\n",
      "Requirement already satisfied: tqdm>=4.42.1 in c:\\users\\kkk\\appdata\\roaming\\python\\python312\\site-packages (from huggingface-hub->ctransformers) (4.67.1)\n",
      "Requirement already satisfied: typing-extensions>=3.7.4.3 in c:\\users\\kkk\\appdata\\roaming\\python\\python312\\site-packages (from huggingface-hub->ctransformers) (4.12.2)\n",
      "Requirement already satisfied: colorama in c:\\users\\kkk\\appdata\\roaming\\python\\python312\\site-packages (from tqdm>=4.42.1->huggingface-hub->ctransformers) (0.4.6)\n",
      "Requirement already satisfied: charset-normalizer<4,>=2 in c:\\users\\kkk\\appdata\\roaming\\python\\python312\\site-packages (from requests->huggingface-hub->ctransformers) (3.4.0)\n",
      "Requirement already satisfied: idna<4,>=2.5 in c:\\users\\kkk\\appdata\\roaming\\python\\python312\\site-packages (from requests->huggingface-hub->ctransformers) (3.10)\n",
      "Requirement already satisfied: urllib3<3,>=1.21.1 in c:\\users\\kkk\\appdata\\roaming\\python\\python312\\site-packages (from requests->huggingface-hub->ctransformers) (2.2.3)\n",
      "Requirement already satisfied: certifi>=2017.4.17 in c:\\users\\kkk\\appdata\\roaming\\python\\python312\\site-packages (from requests->huggingface-hub->ctransformers) (2024.8.30)\n",
      "\n",
      "changed 1 package, and audited 23 packages in 1s\n",
      "\n",
      "3 packages are looking for funding\n",
      "  run `npm fund` for details\n",
      "\n",
      "2 moderate severity vulnerabilities\n",
      "\n",
      "To address all issues (including breaking changes), run:\n",
      "  npm audit fix --force\n",
      "\n",
      "Run `npm audit` for details.\n"
     ]
    },
    {
     "name": "stderr",
     "output_type": "stream",
     "text": [
      "npm WARN tar TAR_ENTRY_ERROR UNKNOWN: unknown error, write\n",
      "npm WARN tar TAR_ENTRY_ERROR UNKNOWN: unknown error, write\n",
      "npm WARN tar TAR_ENTRY_ERROR UNKNOWN: unknown error, write\n",
      "npm WARN tar TAR_ENTRY_ERROR UNKNOWN: unknown error, write\n",
      "npm WARN tar TAR_ENTRY_ERROR UNKNOWN: unknown error, write\n",
      "npm WARN tar TAR_ENTRY_ERROR UNKNOWN: unknown error, write\n",
      "npm WARN tar TAR_ENTRY_ERROR UNKNOWN: unknown error, write\n",
      "npm WARN tar TAR_ENTRY_ERROR UNKNOWN: unknown error, write\n",
      "npm WARN tar TAR_ENTRY_ERROR UNKNOWN: unknown error, write\n",
      "npm WARN tar TAR_ENTRY_ERROR UNKNOWN: unknown error, write\n",
      "npm WARN tar TAR_ENTRY_ERROR UNKNOWN: unknown error, write\n",
      "npm WARN tar TAR_ENTRY_ERROR UNKNOWN: unknown error, write\n"
     ]
    },
    {
     "name": "stdout",
     "output_type": "stream",
     "text": [
      "\n",
      "removed 22 packages, and audited 1 package in 3s\n",
      "\n",
      "found 0 vulnerabilities\n"
     ]
    },
    {
     "name": "stderr",
     "output_type": "stream",
     "text": [
      "npm WARN tar TAR_ENTRY_ERROR UNKNOWN: unknown error, write\n",
      "npm WARN tar TAR_ENTRY_ERROR UNKNOWN: unknown error, write\n",
      "npm WARN tar TAR_ENTRY_ERROR UNKNOWN: unknown error, write\n",
      "npm WARN tar TAR_ENTRY_ERROR UNKNOWN: unknown error, write\n",
      "npm WARN tar TAR_ENTRY_ERROR UNKNOWN: unknown error, write\n",
      "npm WARN tar TAR_ENTRY_ERROR UNKNOWN: unknown error, write\n",
      "npm WARN tar TAR_ENTRY_ERROR UNKNOWN: unknown error, write\n",
      "npm WARN tar TAR_ENTRY_ERROR UNKNOWN: unknown error, write\n",
      "npm WARN tar TAR_ENTRY_ERROR UNKNOWN: unknown error, write\n",
      "npm WARN tar TAR_ENTRY_ERROR UNKNOWN: unknown error, write\n",
      "npm WARN tar TAR_ENTRY_ERROR UNKNOWN: unknown error, write\n",
      "npm WARN tar TAR_ENTRY_ERROR UNKNOWN: unknown error, write\n",
      "npm WARN tar TAR_ENTRY_ERROR UNKNOWN: unknown error, write\n",
      "npm WARN tar TAR_ENTRY_ERROR UNKNOWN: unknown error, write\n",
      "npm WARN tar TAR_ENTRY_ERROR UNKNOWN: unknown error, write\n",
      "npm WARN tar TAR_ENTRY_ERROR EBADF: bad file descriptor, write\n",
      "npm WARN tar TAR_ENTRY_ERROR EBADF: bad file descriptor, write\n",
      "npm WARN tar TAR_ENTRY_ERROR EBADF: bad file descriptor, write\n",
      "npm WARN tar TAR_ENTRY_ERROR UNKNOWN: unknown error, write\n",
      "npm WARN tar TAR_ENTRY_ERROR EBADF: bad file descriptor, write\n",
      "npm WARN tar TAR_ENTRY_ERROR UNKNOWN: unknown error, write\n",
      "npm WARN tar TAR_ENTRY_ERROR UNKNOWN: unknown error, write\n",
      "npm WARN tar TAR_ENTRY_ERROR UNKNOWN: unknown error, write\n",
      "npm WARN tar TAR_ENTRY_ERROR EBADF: bad file descriptor, write\n",
      "npm WARN tar TAR_ENTRY_ERROR UNKNOWN: unknown error, write\n",
      "npm WARN tar TAR_ENTRY_ERROR UNKNOWN: unknown error, write\n",
      "npm WARN tar TAR_ENTRY_ERROR UNKNOWN: unknown error, write\n",
      "npm WARN tar TAR_ENTRY_ERROR UNKNOWN: unknown error, write\n",
      "npm WARN tar TAR_ENTRY_ERROR UNKNOWN: unknown error, write\n",
      "npm WARN tar TAR_ENTRY_ERROR EBADF: bad file descriptor, write\n",
      "npm WARN tar TAR_ENTRY_ERROR UNKNOWN: unknown error, write\n",
      "npm WARN tar TAR_ENTRY_ERROR EBADF: bad file descriptor, write\n",
      "npm WARN tar TAR_ENTRY_ERROR UNKNOWN: unknown error, write\n",
      "npm WARN tar TAR_ENTRY_ERROR EBADF: bad file descriptor, write\n",
      "npm WARN tar TAR_ENTRY_ERROR EBADF: bad file descriptor, write\n",
      "npm WARN tar TAR_ENTRY_ERROR EBADF: bad file descriptor, write\n",
      "npm WARN tar TAR_ENTRY_ERROR EBADF: bad file descriptor, write\n",
      "npm WARN tar TAR_ENTRY_ERROR EBADF: bad file descriptor, write\n",
      "npm WARN tar TAR_ENTRY_ERROR UNKNOWN: unknown error, write\n",
      "npm WARN tar TAR_ENTRY_ERROR UNKNOWN: unknown error, write\n",
      "npm WARN tar TAR_ENTRY_ERROR UNKNOWN: unknown error, write\n",
      "npm WARN tar TAR_ENTRY_ERROR UNKNOWN: unknown error, write\n",
      "npm WARN tar TAR_ENTRY_ERROR UNKNOWN: unknown error, write\n",
      "npm WARN tar TAR_ENTRY_ERROR EBADF: bad file descriptor, write\n",
      "npm WARN tar TAR_ENTRY_ERROR UNKNOWN: unknown error, write\n",
      "npm WARN tar TAR_ENTRY_ERROR UNKNOWN: unknown error, write\n",
      "npm WARN tar TAR_ENTRY_ERROR EBADF: bad file descriptor, write\n",
      "npm WARN tar TAR_ENTRY_ERROR UNKNOWN: unknown error, write\n",
      "npm WARN tar TAR_ENTRY_ERROR EBADF: bad file descriptor, write\n",
      "npm WARN tar TAR_ENTRY_ERROR UNKNOWN: unknown error, write\n",
      "npm WARN tar TAR_ENTRY_ERROR EBADF: bad file descriptor, write\n",
      "npm WARN tar TAR_ENTRY_ERROR UNKNOWN: unknown error, write\n",
      "npm WARN tar TAR_ENTRY_ERROR EBADF: bad file descriptor, write\n",
      "npm WARN tar TAR_ENTRY_ERROR EBADF: bad file descriptor, write\n",
      "npm WARN tar TAR_ENTRY_ERROR UNKNOWN: unknown error, write\n",
      "npm WARN tar TAR_ENTRY_ERROR EBADF: bad file descriptor, write\n",
      "npm WARN tar TAR_ENTRY_ERROR EBADF: bad file descriptor, write\n",
      "npm WARN tar TAR_ENTRY_ERROR UNKNOWN: unknown error, write\n",
      "npm WARN tar TAR_ENTRY_ERROR UNKNOWN: unknown error, write\n",
      "npm WARN tar TAR_ENTRY_ERROR EBADF: bad file descriptor, write\n",
      "npm WARN tar TAR_ENTRY_ERROR UNKNOWN: unknown error, write\n",
      "npm WARN tar TAR_ENTRY_ERROR EBADF: bad file descriptor, write\n",
      "npm WARN tar TAR_ENTRY_ERROR EBADF: bad file descriptor, write\n",
      "npm WARN tar TAR_ENTRY_ERROR UNKNOWN: unknown error, write\n",
      "npm WARN tar TAR_ENTRY_ERROR UNKNOWN: unknown error, write\n",
      "npm WARN tar TAR_ENTRY_ERROR UNKNOWN: unknown error, write\n",
      "npm WARN tar TAR_ENTRY_ERROR UNKNOWN: unknown error, write\n",
      "npm WARN tar TAR_ENTRY_ERROR UNKNOWN: unknown error, write\n",
      "npm WARN tar TAR_ENTRY_ERROR UNKNOWN: unknown error, write\n",
      "npm WARN tar TAR_ENTRY_ERROR EBADF: bad file descriptor, write\n",
      "npm WARN tar TAR_ENTRY_ERROR UNKNOWN: unknown error, write\n",
      "npm WARN tar TAR_ENTRY_ERROR EBADF: bad file descriptor, write\n",
      "npm WARN tar TAR_ENTRY_ERROR EBADF: bad file descriptor, write\n",
      "npm WARN tar TAR_ENTRY_ERROR EBADF: bad file descriptor, write\n",
      "npm WARN tar TAR_ENTRY_ERROR EBADF: bad file descriptor, write\n",
      "npm WARN tar TAR_ENTRY_ERROR UNKNOWN: unknown error, write\n",
      "npm WARN tar TAR_ENTRY_ERROR EBADF: bad file descriptor, write\n",
      "npm WARN tar TAR_ENTRY_ERROR UNKNOWN: unknown error, write\n",
      "npm WARN tar TAR_ENTRY_ERROR UNKNOWN: unknown error, write\n",
      "npm WARN tar TAR_ENTRY_ERROR EBADF: bad file descriptor, write\n",
      "npm WARN tar TAR_ENTRY_ERROR EBADF: bad file descriptor, write\n",
      "npm WARN tar TAR_ENTRY_ERROR UNKNOWN: unknown error, write\n",
      "npm WARN tar TAR_ENTRY_ERROR UNKNOWN: unknown error, write\n",
      "npm WARN tar TAR_ENTRY_ERROR UNKNOWN: unknown error, write\n",
      "npm WARN tar TAR_ENTRY_ERROR UNKNOWN: unknown error, write\n",
      "npm WARN tar TAR_ENTRY_ERROR UNKNOWN: unknown error, write\n",
      "npm WARN tar TAR_ENTRY_ERROR EBADF: bad file descriptor, write\n",
      "npm WARN tar TAR_ENTRY_ERROR UNKNOWN: unknown error, write\n",
      "npm WARN tar TAR_ENTRY_ERROR UNKNOWN: unknown error, write\n",
      "npm WARN tar TAR_ENTRY_ERROR EBADF: bad file descriptor, write\n",
      "npm WARN tar TAR_ENTRY_ERROR UNKNOWN: unknown error, write\n",
      "npm WARN tar TAR_ENTRY_ERROR UNKNOWN: unknown error, write\n",
      "npm WARN tar TAR_ENTRY_ERROR UNKNOWN: unknown error, write\n",
      "npm WARN tar TAR_ENTRY_ERROR UNKNOWN: unknown error, write\n",
      "npm WARN tar TAR_ENTRY_ERROR EBADF: bad file descriptor, write\n",
      "npm WARN tar TAR_ENTRY_ERROR EBADF: bad file descriptor, write\n",
      "npm WARN tar TAR_ENTRY_ERROR UNKNOWN: unknown error, write\n",
      "npm WARN tar TAR_ENTRY_ERROR EBADF: bad file descriptor, write\n",
      "npm WARN tar TAR_ENTRY_ERROR UNKNOWN: unknown error, write\n",
      "npm WARN tar TAR_ENTRY_ERROR UNKNOWN: unknown error, write\n",
      "npm WARN tar TAR_ENTRY_ERROR UNKNOWN: unknown error, write\n",
      "npm WARN tar TAR_ENTRY_ERROR EBADF: bad file descriptor, write\n",
      "npm WARN tar TAR_ENTRY_ERROR UNKNOWN: unknown error, write\n",
      "npm WARN tar TAR_ENTRY_ERROR UNKNOWN: unknown error, write\n",
      "npm WARN tar TAR_ENTRY_ERROR UNKNOWN: unknown error, write\n",
      "npm WARN tar TAR_ENTRY_ERROR UNKNOWN: unknown error, write\n",
      "npm WARN tar TAR_ENTRY_ERROR UNKNOWN: unknown error, write\n",
      "npm WARN tar TAR_ENTRY_ERROR EBADF: bad file descriptor, write\n",
      "npm WARN tar TAR_ENTRY_ERROR UNKNOWN: unknown error, write\n",
      "npm WARN tar TAR_ENTRY_ERROR UNKNOWN: unknown error, write\n",
      "npm WARN tar TAR_ENTRY_ERROR UNKNOWN: unknown error, write\n",
      "npm WARN tar TAR_ENTRY_ERROR UNKNOWN: unknown error, write\n",
      "npm WARN tar TAR_ENTRY_ERROR UNKNOWN: unknown error, write\n",
      "npm WARN tar TAR_ENTRY_ERROR UNKNOWN: unknown error, write\n",
      "npm WARN tar TAR_ENTRY_ERROR UNKNOWN: unknown error, write\n",
      "npm WARN tar TAR_ENTRY_ERROR EBADF: bad file descriptor, write\n",
      "npm WARN tar TAR_ENTRY_ERROR EBADF: bad file descriptor, write\n",
      "npm WARN tar TAR_ENTRY_ERROR UNKNOWN: unknown error, write\n",
      "npm WARN tar TAR_ENTRY_ERROR EBADF: bad file descriptor, write\n",
      "npm WARN tar TAR_ENTRY_ERROR UNKNOWN: unknown error, write\n",
      "npm WARN tar TAR_ENTRY_ERROR EBADF: bad file descriptor, write\n",
      "npm WARN tar TAR_ENTRY_ERROR UNKNOWN: unknown error, write\n",
      "npm WARN tar TAR_ENTRY_ERROR UNKNOWN: unknown error, write\n",
      "npm WARN tar TAR_ENTRY_ERROR UNKNOWN: unknown error, write\n",
      "npm WARN tar TAR_ENTRY_ERROR UNKNOWN: unknown error, write\n",
      "npm WARN tar TAR_ENTRY_ERROR UNKNOWN: unknown error, write\n",
      "npm WARN tar TAR_ENTRY_ERROR EBADF: bad file descriptor, write\n",
      "npm WARN tar TAR_ENTRY_ERROR UNKNOWN: unknown error, write\n",
      "npm WARN tar TAR_ENTRY_ERROR EBADF: bad file descriptor, write\n",
      "npm WARN tar TAR_ENTRY_ERROR UNKNOWN: unknown error, write\n",
      "npm WARN tar TAR_ENTRY_ERROR UNKNOWN: unknown error, write\n",
      "npm WARN tar TAR_ENTRY_ERROR UNKNOWN: unknown error, write\n",
      "npm WARN tar TAR_ENTRY_ERROR UNKNOWN: unknown error, write\n",
      "npm WARN tar TAR_ENTRY_ERROR EBADF: bad file descriptor, write\n",
      "npm WARN tar TAR_ENTRY_ERROR UNKNOWN: unknown error, write\n",
      "npm WARN tar TAR_ENTRY_ERROR UNKNOWN: unknown error, write\n",
      "npm WARN tar TAR_ENTRY_ERROR UNKNOWN: unknown error, write\n",
      "npm WARN tar TAR_ENTRY_ERROR UNKNOWN: unknown error, write\n",
      "npm WARN tar TAR_ENTRY_ERROR UNKNOWN: unknown error, write\n",
      "npm WARN tar TAR_ENTRY_ERROR UNKNOWN: unknown error, write\n",
      "npm WARN tar TAR_ENTRY_ERROR UNKNOWN: unknown error, write\n",
      "npm WARN tar TAR_ENTRY_ERROR UNKNOWN: unknown error, write\n",
      "npm WARN tar TAR_ENTRY_ERROR UNKNOWN: unknown error, write\n",
      "npm WARN tar TAR_ENTRY_ERROR UNKNOWN: unknown error, write\n",
      "npm WARN tar TAR_ENTRY_ERROR UNKNOWN: unknown error, write\n",
      "npm WARN tar TAR_ENTRY_ERROR UNKNOWN: unknown error, write\n",
      "npm WARN tar TAR_ENTRY_ERROR UNKNOWN: unknown error, write\n",
      "npm WARN tar TAR_ENTRY_ERROR UNKNOWN: unknown error, write\n",
      "npm WARN tar TAR_ENTRY_ERROR UNKNOWN: unknown error, write\n",
      "npm WARN tar TAR_ENTRY_ERROR UNKNOWN: unknown error, write\n",
      "npm WARN tar TAR_ENTRY_ERROR UNKNOWN: unknown error, write\n",
      "npm WARN tar TAR_ENTRY_ERROR UNKNOWN: unknown error, write\n",
      "npm WARN tar TAR_ENTRY_ERROR UNKNOWN: unknown error, write\n",
      "npm WARN tar TAR_ENTRY_ERROR UNKNOWN: unknown error, write\n",
      "npm WARN tar TAR_ENTRY_ERROR UNKNOWN: unknown error, write\n",
      "npm WARN tar TAR_ENTRY_ERROR UNKNOWN: unknown error, write\n",
      "npm WARN tar TAR_ENTRY_ERROR UNKNOWN: unknown error, write\n",
      "npm WARN tar TAR_ENTRY_ERROR UNKNOWN: unknown error, write\n",
      "npm WARN tar TAR_ENTRY_ERROR UNKNOWN: unknown error, write\n",
      "npm WARN tar TAR_ENTRY_ERROR UNKNOWN: unknown error, write\n",
      "npm WARN tar TAR_ENTRY_ERROR UNKNOWN: unknown error, write\n",
      "npm WARN tar TAR_ENTRY_ERROR UNKNOWN: unknown error, write\n",
      "npm WARN tar TAR_ENTRY_ERROR UNKNOWN: unknown error, write\n",
      "npm WARN tar TAR_ENTRY_ERROR UNKNOWN: unknown error, write\n",
      "npm WARN tar TAR_ENTRY_ERROR UNKNOWN: unknown error, write\n",
      "npm WARN tar TAR_ENTRY_ERROR UNKNOWN: unknown error, write\n",
      "npm WARN tar TAR_ENTRY_ERROR UNKNOWN: unknown error, write\n",
      "npm WARN tar TAR_ENTRY_ERROR UNKNOWN: unknown error, write\n",
      "npm WARN tar TAR_ENTRY_ERROR UNKNOWN: unknown error, write\n",
      "npm WARN tar TAR_ENTRY_ERROR UNKNOWN: unknown error, write\n",
      "npm WARN tar TAR_ENTRY_ERROR UNKNOWN: unknown error, write\n",
      "npm WARN tar TAR_ENTRY_ERROR UNKNOWN: unknown error, write\n",
      "npm WARN tar TAR_ENTRY_ERROR UNKNOWN: unknown error, write\n",
      "npm WARN tar TAR_ENTRY_ERROR UNKNOWN: unknown error, write\n",
      "npm WARN tar TAR_ENTRY_ERROR UNKNOWN: unknown error, write\n",
      "npm WARN tar TAR_ENTRY_ERROR UNKNOWN: unknown error, write\n",
      "npm WARN tar TAR_ENTRY_ERROR UNKNOWN: unknown error, write\n",
      "npm WARN tar TAR_ENTRY_ERROR UNKNOWN: unknown error, write\n",
      "npm WARN tar TAR_ENTRY_ERROR UNKNOWN: unknown error, write\n",
      "npm WARN tar TAR_ENTRY_ERROR UNKNOWN: unknown error, write\n",
      "npm WARN tar TAR_ENTRY_ERROR UNKNOWN: unknown error, write\n",
      "npm WARN tar TAR_ENTRY_ERROR UNKNOWN: unknown error, write\n",
      "npm WARN tar TAR_ENTRY_ERROR UNKNOWN: unknown error, write\n",
      "npm WARN tar TAR_ENTRY_ERROR UNKNOWN: unknown error, write\n",
      "npm WARN tar TAR_ENTRY_ERROR UNKNOWN: unknown error, write\n",
      "npm WARN tar TAR_ENTRY_ERROR UNKNOWN: unknown error, write\n",
      "npm WARN tar TAR_ENTRY_ERROR UNKNOWN: unknown error, write\n",
      "npm WARN tar TAR_ENTRY_ERROR UNKNOWN: unknown error, write\n",
      "npm WARN tar TAR_ENTRY_ERROR UNKNOWN: unknown error, write\n",
      "npm WARN tar TAR_ENTRY_ERROR UNKNOWN: unknown error, write\n",
      "npm WARN tar TAR_ENTRY_ERROR UNKNOWN: unknown error, write\n",
      "npm WARN tar TAR_ENTRY_ERROR UNKNOWN: unknown error, write\n",
      "npm WARN tar TAR_ENTRY_ERROR UNKNOWN: unknown error, write\n",
      "npm WARN tar TAR_ENTRY_ERROR UNKNOWN: unknown error, write\n",
      "npm WARN tar TAR_ENTRY_ERROR UNKNOWN: unknown error, write\n",
      "npm WARN tar TAR_ENTRY_ERROR UNKNOWN: unknown error, write\n",
      "npm WARN tar TAR_ENTRY_ERROR UNKNOWN: unknown error, write\n",
      "npm WARN tar TAR_ENTRY_ERROR UNKNOWN: unknown error, write\n",
      "npm WARN tar TAR_ENTRY_ERROR UNKNOWN: unknown error, write\n",
      "npm WARN tar TAR_ENTRY_ERROR UNKNOWN: unknown error, write\n",
      "npm WARN tar TAR_ENTRY_ERROR UNKNOWN: unknown error, write\n",
      "npm WARN tar TAR_ENTRY_ERROR UNKNOWN: unknown error, write\n",
      "npm WARN tar TAR_ENTRY_ERROR UNKNOWN: unknown error, write\n",
      "npm WARN tar TAR_ENTRY_ERROR UNKNOWN: unknown error, write\n",
      "npm WARN tar TAR_ENTRY_ERROR UNKNOWN: unknown error, write\n",
      "npm WARN tar TAR_ENTRY_ERROR UNKNOWN: unknown error, write\n",
      "npm WARN tar TAR_ENTRY_ERROR UNKNOWN: unknown error, write\n",
      "npm WARN tar TAR_ENTRY_ERROR UNKNOWN: unknown error, write\n",
      "npm WARN tar TAR_ENTRY_ERROR UNKNOWN: unknown error, write\n",
      "npm WARN tar TAR_ENTRY_ERROR UNKNOWN: unknown error, write\n",
      "npm WARN tar TAR_ENTRY_ERROR UNKNOWN: unknown error, write\n",
      "npm WARN tar TAR_ENTRY_ERROR UNKNOWN: unknown error, write\n",
      "npm WARN tar TAR_ENTRY_ERROR UNKNOWN: unknown error, write\n",
      "npm WARN tar TAR_ENTRY_ERROR UNKNOWN: unknown error, write\n",
      "npm WARN tar TAR_ENTRY_ERROR UNKNOWN: unknown error, write\n",
      "npm WARN tar TAR_ENTRY_ERROR UNKNOWN: unknown error, write\n",
      "npm WARN tar TAR_ENTRY_ERROR UNKNOWN: unknown error, write\n",
      "npm WARN tar TAR_ENTRY_ERROR UNKNOWN: unknown error, write\n",
      "npm WARN tar TAR_ENTRY_ERROR UNKNOWN: unknown error, write\n",
      "npm WARN tar TAR_ENTRY_ERROR UNKNOWN: unknown error, write\n",
      "npm WARN tar TAR_ENTRY_ERROR UNKNOWN: unknown error, write\n",
      "npm WARN tar TAR_ENTRY_ERROR UNKNOWN: unknown error, write\n",
      "npm WARN tar TAR_ENTRY_ERROR UNKNOWN: unknown error, write\n",
      "npm WARN tar TAR_ENTRY_ERROR UNKNOWN: unknown error, write\n",
      "npm WARN tar TAR_ENTRY_ERROR UNKNOWN: unknown error, write\n",
      "npm WARN tar TAR_ENTRY_ERROR UNKNOWN: unknown error, write\n",
      "npm WARN tar TAR_ENTRY_ERROR UNKNOWN: unknown error, write\n",
      "npm WARN tar TAR_ENTRY_ERROR UNKNOWN: unknown error, write\n",
      "npm WARN tar TAR_ENTRY_ERROR UNKNOWN: unknown error, write\n",
      "npm WARN tar TAR_ENTRY_ERROR UNKNOWN: unknown error, write\n",
      "npm WARN tar TAR_ENTRY_ERROR UNKNOWN: unknown error, write\n",
      "npm WARN tar TAR_ENTRY_ERROR UNKNOWN: unknown error, write\n",
      "npm WARN tar TAR_ENTRY_ERROR UNKNOWN: unknown error, write\n",
      "npm WARN tar TAR_ENTRY_ERROR UNKNOWN: unknown error, write\n",
      "npm WARN tar TAR_ENTRY_ERROR UNKNOWN: unknown error, write\n",
      "npm WARN tar TAR_ENTRY_ERROR UNKNOWN: unknown error, write\n",
      "npm WARN tar TAR_ENTRY_ERROR UNKNOWN: unknown error, write\n"
     ]
    },
    {
     "name": "stdout",
     "output_type": "stream",
     "text": [
      "\n",
      "added 22 packages, and audited 23 packages in 5s\n",
      "\n",
      "3 packages are looking for funding\n",
      "  run `npm fund` for details\n",
      "\n",
      "2 moderate severity vulnerabilities\n",
      "\n",
      "To address all issues, run:\n",
      "  npm audit fix\n",
      "\n",
      "Run `npm audit` for details.\n"
     ]
    }
   ],
   "source": [
    "%pip install --upgrade --quiet  langchain langchain-community langchain-openai langchain-experimental neo4j tiktoken yfiles_jupyter_graphs streamlit\n",
    "%pip install ctransformers\n",
    "!npm install localtunnel\n",
    "!npm uninstall localtunnel\n",
    "!npm install localtunnel"
   ]
  },
  {
   "cell_type": "code",
   "execution_count": null,
   "metadata": {},
   "outputs": [
    {
     "name": "stderr",
     "output_type": "stream",
     "text": [
      "C:\\Users\\kkk\\AppData\\Roaming\\Python\\Python312\\site-packages\\IPython\\core\\interactiveshell.py:3577: LangChainDeprecationWarning: As of langchain-core 0.3.0, LangChain uses pydantic v2 internally. The langchain_core.pydantic_v1 module was a compatibility shim for pydantic v1, and should no longer be used. Please update the code to import from Pydantic directly.\n",
      "\n",
      "For example, replace imports like: `from langchain_core.pydantic_v1 import BaseModel`\n",
      "with: `from pydantic import BaseModel`\n",
      "or the v1 compatibility namespace if you are working in a code base that has not been fully upgraded to pydantic 2 yet. \tfrom pydantic.v1 import BaseModel\n",
      "\n",
      "  exec(code_obj, self.user_global_ns, self.user_ns)\n"
     ]
    }
   ],
   "source": [
    "# %%writefile main.py\n",
    "\n",
    "from langchain_core.runnables import (\n",
    "    RunnableBranch,\n",
    "    RunnableLambda,\n",
    "    RunnableParallel,\n",
    "    RunnablePassthrough,\n",
    ")\n",
    "from langchain_core.prompts import ChatPromptTemplate\n",
    "from langchain_core.prompts.prompt import PromptTemplate\n",
    "from langchain_core.pydantic_v1 import BaseModel, Field\n",
    "from typing import Tuple, List, Optional\n",
    "from langchain_core.messages import AIMessage, HumanMessage\n",
    "from langchain_core.output_parsers import StrOutputParser\n",
    "import os\n",
    "from langchain_community.graphs import Neo4jGraph\n",
    "from langchain.text_splitter import TokenTextSplitter\n",
    "from langchain_openai import ChatOpenAI\n",
    "from langchain_experimental.graph_transformers import LLMGraphTransformer\n",
    "from neo4j import GraphDatabase\n",
    "from yfiles_jupyter_graphs import GraphWidget\n",
    "from langchain_community.vectorstores import Neo4jVector\n",
    "from langchain_openai import OpenAIEmbeddings\n",
    "from langchain_community.vectorstores.neo4j_vector import remove_lucene_chars\n",
    "from langchain_core.runnables import ConfigurableField, RunnableParallel, RunnablePassthrough\n",
    "\n",
    "\n",
    "try:\n",
    "  import google.colab\n",
    "  from google.colab import output\n",
    "  output.enable_custom_widget_manager()\n",
    "except:\n",
    "  pass"
   ]
  },
  {
   "cell_type": "code",
   "execution_count": null,
   "metadata": {},
   "outputs": [],
   "source": [
    "os.environ[\"OPENAI_API_KEY\"] = \"\"\n",
    "os.environ[\"NEO4J_URI\"] = \"\"\n",
    "os.environ[\"NEO4J_USERNAME\"] = \"neo4j\"\n",
    "os.environ[\"NEO4J_PASSWORD\"] = \"\""
   ]
  },
  {
   "cell_type": "code",
   "execution_count": null,
   "metadata": {},
   "outputs": [],
   "source": [
    "graph = Neo4jGraph()"
   ]
  },
  {
   "cell_type": "code",
   "execution_count": 5,
   "metadata": {},
   "outputs": [
    {
     "name": "stderr",
     "output_type": "stream",
     "text": [
      "USER_AGENT environment variable not set, consider setting it to identify your requests.\n",
      "C:\\Users\\kkk\\AppData\\Roaming\\Python\\Python312\\site-packages\\urllib3\\connectionpool.py:1099: InsecureRequestWarning: Unverified HTTPS request is being made to host 'www.mayoclinic.org'. Adding certificate verification is strongly advised. See: https://urllib3.readthedocs.io/en/latest/advanced-usage.html#tls-warnings\n",
      "  warnings.warn(\n",
      "C:\\Users\\kkk\\AppData\\Roaming\\Python\\Python312\\site-packages\\urllib3\\connectionpool.py:1099: InsecureRequestWarning: Unverified HTTPS request is being made to host 'www.mayoclinic.org'. Adding certificate verification is strongly advised. See: https://urllib3.readthedocs.io/en/latest/advanced-usage.html#tls-warnings\n",
      "  warnings.warn(\n",
      "C:\\Users\\kkk\\AppData\\Roaming\\Python\\Python312\\site-packages\\urllib3\\connectionpool.py:1099: InsecureRequestWarning: Unverified HTTPS request is being made to host 'www.mayoclinic.org'. Adding certificate verification is strongly advised. See: https://urllib3.readthedocs.io/en/latest/advanced-usage.html#tls-warnings\n",
      "  warnings.warn(\n",
      "C:\\Users\\kkk\\AppData\\Roaming\\Python\\Python312\\site-packages\\urllib3\\connectionpool.py:1099: InsecureRequestWarning: Unverified HTTPS request is being made to host 'www.mayoclinic.org'. Adding certificate verification is strongly advised. See: https://urllib3.readthedocs.io/en/latest/advanced-usage.html#tls-warnings\n",
      "  warnings.warn(\n",
      "C:\\Users\\kkk\\AppData\\Roaming\\Python\\Python312\\site-packages\\urllib3\\connectionpool.py:1099: InsecureRequestWarning: Unverified HTTPS request is being made to host 'www.mayoclinic.org'. Adding certificate verification is strongly advised. See: https://urllib3.readthedocs.io/en/latest/advanced-usage.html#tls-warnings\n",
      "  warnings.warn(\n",
      "C:\\Users\\kkk\\AppData\\Roaming\\Python\\Python312\\site-packages\\urllib3\\connectionpool.py:1099: InsecureRequestWarning: Unverified HTTPS request is being made to host 'www.mayoclinic.org'. Adding certificate verification is strongly advised. See: https://urllib3.readthedocs.io/en/latest/advanced-usage.html#tls-warnings\n",
      "  warnings.warn(\n",
      "C:\\Users\\kkk\\AppData\\Roaming\\Python\\Python312\\site-packages\\urllib3\\connectionpool.py:1099: InsecureRequestWarning: Unverified HTTPS request is being made to host 'www.mayoclinic.org'. Adding certificate verification is strongly advised. See: https://urllib3.readthedocs.io/en/latest/advanced-usage.html#tls-warnings\n",
      "  warnings.warn(\n",
      "C:\\Users\\kkk\\AppData\\Roaming\\Python\\Python312\\site-packages\\urllib3\\connectionpool.py:1099: InsecureRequestWarning: Unverified HTTPS request is being made to host 'www.mayoclinic.org'. Adding certificate verification is strongly advised. See: https://urllib3.readthedocs.io/en/latest/advanced-usage.html#tls-warnings\n",
      "  warnings.warn(\n",
      "C:\\Users\\kkk\\AppData\\Roaming\\Python\\Python312\\site-packages\\urllib3\\connectionpool.py:1099: InsecureRequestWarning: Unverified HTTPS request is being made to host 'www.mayoclinic.org'. Adding certificate verification is strongly advised. See: https://urllib3.readthedocs.io/en/latest/advanced-usage.html#tls-warnings\n",
      "  warnings.warn(\n",
      "C:\\Users\\kkk\\AppData\\Roaming\\Python\\Python312\\site-packages\\urllib3\\connectionpool.py:1099: InsecureRequestWarning: Unverified HTTPS request is being made to host 'www.mayoclinic.org'. Adding certificate verification is strongly advised. See: https://urllib3.readthedocs.io/en/latest/advanced-usage.html#tls-warnings\n",
      "  warnings.warn(\n",
      "C:\\Users\\kkk\\AppData\\Roaming\\Python\\Python312\\site-packages\\urllib3\\connectionpool.py:1099: InsecureRequestWarning: Unverified HTTPS request is being made to host 'www.mayoclinic.org'. Adding certificate verification is strongly advised. See: https://urllib3.readthedocs.io/en/latest/advanced-usage.html#tls-warnings\n",
      "  warnings.warn(\n",
      "C:\\Users\\kkk\\AppData\\Roaming\\Python\\Python312\\site-packages\\urllib3\\connectionpool.py:1099: InsecureRequestWarning: Unverified HTTPS request is being made to host 'www.mayoclinic.org'. Adding certificate verification is strongly advised. See: https://urllib3.readthedocs.io/en/latest/advanced-usage.html#tls-warnings\n",
      "  warnings.warn(\n",
      "C:\\Users\\kkk\\AppData\\Roaming\\Python\\Python312\\site-packages\\urllib3\\connectionpool.py:1099: InsecureRequestWarning: Unverified HTTPS request is being made to host 'www.mayoclinic.org'. Adding certificate verification is strongly advised. See: https://urllib3.readthedocs.io/en/latest/advanced-usage.html#tls-warnings\n",
      "  warnings.warn(\n",
      "C:\\Users\\kkk\\AppData\\Roaming\\Python\\Python312\\site-packages\\urllib3\\connectionpool.py:1099: InsecureRequestWarning: Unverified HTTPS request is being made to host 'www.mayoclinic.org'. Adding certificate verification is strongly advised. See: https://urllib3.readthedocs.io/en/latest/advanced-usage.html#tls-warnings\n",
      "  warnings.warn(\n",
      "C:\\Users\\kkk\\AppData\\Roaming\\Python\\Python312\\site-packages\\urllib3\\connectionpool.py:1099: InsecureRequestWarning: Unverified HTTPS request is being made to host 'www.mayoclinic.org'. Adding certificate verification is strongly advised. See: https://urllib3.readthedocs.io/en/latest/advanced-usage.html#tls-warnings\n",
      "  warnings.warn(\n",
      "C:\\Users\\kkk\\AppData\\Roaming\\Python\\Python312\\site-packages\\urllib3\\connectionpool.py:1099: InsecureRequestWarning: Unverified HTTPS request is being made to host 'www.mayoclinic.org'. Adding certificate verification is strongly advised. See: https://urllib3.readthedocs.io/en/latest/advanced-usage.html#tls-warnings\n",
      "  warnings.warn(\n",
      "C:\\Users\\kkk\\AppData\\Roaming\\Python\\Python312\\site-packages\\urllib3\\connectionpool.py:1099: InsecureRequestWarning: Unverified HTTPS request is being made to host 'www.mayoclinic.org'. Adding certificate verification is strongly advised. See: https://urllib3.readthedocs.io/en/latest/advanced-usage.html#tls-warnings\n",
      "  warnings.warn(\n",
      "C:\\Users\\kkk\\AppData\\Roaming\\Python\\Python312\\site-packages\\urllib3\\connectionpool.py:1099: InsecureRequestWarning: Unverified HTTPS request is being made to host 'www.mayoclinic.org'. Adding certificate verification is strongly advised. See: https://urllib3.readthedocs.io/en/latest/advanced-usage.html#tls-warnings\n",
      "  warnings.warn(\n",
      "C:\\Users\\kkk\\AppData\\Roaming\\Python\\Python312\\site-packages\\urllib3\\connectionpool.py:1099: InsecureRequestWarning: Unverified HTTPS request is being made to host 'newsnetwork.mayoclinic.org'. Adding certificate verification is strongly advised. See: https://urllib3.readthedocs.io/en/latest/advanced-usage.html#tls-warnings\n",
      "  warnings.warn(\n",
      "C:\\Users\\kkk\\AppData\\Roaming\\Python\\Python312\\site-packages\\urllib3\\connectionpool.py:1099: InsecureRequestWarning: Unverified HTTPS request is being made to host 'www.mayoclinic.org'. Adding certificate verification is strongly advised. See: https://urllib3.readthedocs.io/en/latest/advanced-usage.html#tls-warnings\n",
      "  warnings.warn(\n",
      "C:\\Users\\kkk\\AppData\\Roaming\\Python\\Python312\\site-packages\\urllib3\\connectionpool.py:1099: InsecureRequestWarning: Unverified HTTPS request is being made to host 'www.mayoclinic.org'. Adding certificate verification is strongly advised. See: https://urllib3.readthedocs.io/en/latest/advanced-usage.html#tls-warnings\n",
      "  warnings.warn(\n",
      "C:\\Users\\kkk\\AppData\\Roaming\\Python\\Python312\\site-packages\\urllib3\\connectionpool.py:1099: InsecureRequestWarning: Unverified HTTPS request is being made to host 'www.mayoclinic.org'. Adding certificate verification is strongly advised. See: https://urllib3.readthedocs.io/en/latest/advanced-usage.html#tls-warnings\n",
      "  warnings.warn(\n",
      "C:\\Users\\kkk\\AppData\\Roaming\\Python\\Python312\\site-packages\\urllib3\\connectionpool.py:1099: InsecureRequestWarning: Unverified HTTPS request is being made to host 'www.mayoclinic.org'. Adding certificate verification is strongly advised. See: https://urllib3.readthedocs.io/en/latest/advanced-usage.html#tls-warnings\n",
      "  warnings.warn(\n",
      "C:\\Users\\kkk\\AppData\\Roaming\\Python\\Python312\\site-packages\\urllib3\\connectionpool.py:1099: InsecureRequestWarning: Unverified HTTPS request is being made to host 'www.mayoclinic.org'. Adding certificate verification is strongly advised. See: https://urllib3.readthedocs.io/en/latest/advanced-usage.html#tls-warnings\n",
      "  warnings.warn(\n",
      "C:\\Users\\kkk\\AppData\\Roaming\\Python\\Python312\\site-packages\\urllib3\\connectionpool.py:1099: InsecureRequestWarning: Unverified HTTPS request is being made to host 'www.mayoclinic.org'. Adding certificate verification is strongly advised. See: https://urllib3.readthedocs.io/en/latest/advanced-usage.html#tls-warnings\n",
      "  warnings.warn(\n",
      "C:\\Users\\kkk\\AppData\\Roaming\\Python\\Python312\\site-packages\\urllib3\\connectionpool.py:1099: InsecureRequestWarning: Unverified HTTPS request is being made to host 'www.mayoclinic.org'. Adding certificate verification is strongly advised. See: https://urllib3.readthedocs.io/en/latest/advanced-usage.html#tls-warnings\n",
      "  warnings.warn(\n",
      "C:\\Users\\kkk\\AppData\\Roaming\\Python\\Python312\\site-packages\\urllib3\\connectionpool.py:1099: InsecureRequestWarning: Unverified HTTPS request is being made to host 'www.mayoclinic.org'. Adding certificate verification is strongly advised. See: https://urllib3.readthedocs.io/en/latest/advanced-usage.html#tls-warnings\n",
      "  warnings.warn(\n",
      "C:\\Users\\kkk\\AppData\\Roaming\\Python\\Python312\\site-packages\\urllib3\\connectionpool.py:1099: InsecureRequestWarning: Unverified HTTPS request is being made to host 'www.mayoclinic.org'. Adding certificate verification is strongly advised. See: https://urllib3.readthedocs.io/en/latest/advanced-usage.html#tls-warnings\n",
      "  warnings.warn(\n",
      "C:\\Users\\kkk\\AppData\\Roaming\\Python\\Python312\\site-packages\\urllib3\\connectionpool.py:1099: InsecureRequestWarning: Unverified HTTPS request is being made to host 'www.mayoclinic.org'. Adding certificate verification is strongly advised. See: https://urllib3.readthedocs.io/en/latest/advanced-usage.html#tls-warnings\n",
      "  warnings.warn(\n",
      "C:\\Users\\kkk\\AppData\\Roaming\\Python\\Python312\\site-packages\\urllib3\\connectionpool.py:1099: InsecureRequestWarning: Unverified HTTPS request is being made to host 'www.mayoclinic.org'. Adding certificate verification is strongly advised. See: https://urllib3.readthedocs.io/en/latest/advanced-usage.html#tls-warnings\n",
      "  warnings.warn(\n",
      "C:\\Users\\kkk\\AppData\\Roaming\\Python\\Python312\\site-packages\\urllib3\\connectionpool.py:1099: InsecureRequestWarning: Unverified HTTPS request is being made to host 'www.mayoclinic.org'. Adding certificate verification is strongly advised. See: https://urllib3.readthedocs.io/en/latest/advanced-usage.html#tls-warnings\n",
      "  warnings.warn(\n",
      "C:\\Users\\kkk\\AppData\\Roaming\\Python\\Python312\\site-packages\\urllib3\\connectionpool.py:1099: InsecureRequestWarning: Unverified HTTPS request is being made to host 'www.mayoclinic.org'. Adding certificate verification is strongly advised. See: https://urllib3.readthedocs.io/en/latest/advanced-usage.html#tls-warnings\n",
      "  warnings.warn(\n",
      "C:\\Users\\kkk\\AppData\\Roaming\\Python\\Python312\\site-packages\\urllib3\\connectionpool.py:1099: InsecureRequestWarning: Unverified HTTPS request is being made to host 'www.mayoclinic.org'. Adding certificate verification is strongly advised. See: https://urllib3.readthedocs.io/en/latest/advanced-usage.html#tls-warnings\n",
      "  warnings.warn(\n",
      "C:\\Users\\kkk\\AppData\\Roaming\\Python\\Python312\\site-packages\\urllib3\\connectionpool.py:1099: InsecureRequestWarning: Unverified HTTPS request is being made to host 'www.mayoclinic.org'. Adding certificate verification is strongly advised. See: https://urllib3.readthedocs.io/en/latest/advanced-usage.html#tls-warnings\n",
      "  warnings.warn(\n",
      "C:\\Users\\kkk\\AppData\\Roaming\\Python\\Python312\\site-packages\\urllib3\\connectionpool.py:1099: InsecureRequestWarning: Unverified HTTPS request is being made to host 'www.mayoclinic.org'. Adding certificate verification is strongly advised. See: https://urllib3.readthedocs.io/en/latest/advanced-usage.html#tls-warnings\n",
      "  warnings.warn(\n",
      "C:\\Users\\kkk\\AppData\\Roaming\\Python\\Python312\\site-packages\\urllib3\\connectionpool.py:1099: InsecureRequestWarning: Unverified HTTPS request is being made to host 'www.mayoclinic.org'. Adding certificate verification is strongly advised. See: https://urllib3.readthedocs.io/en/latest/advanced-usage.html#tls-warnings\n",
      "  warnings.warn(\n",
      "C:\\Users\\kkk\\AppData\\Roaming\\Python\\Python312\\site-packages\\urllib3\\connectionpool.py:1099: InsecureRequestWarning: Unverified HTTPS request is being made to host 'www.mayoclinic.org'. Adding certificate verification is strongly advised. See: https://urllib3.readthedocs.io/en/latest/advanced-usage.html#tls-warnings\n",
      "  warnings.warn(\n",
      "C:\\Users\\kkk\\AppData\\Roaming\\Python\\Python312\\site-packages\\urllib3\\connectionpool.py:1099: InsecureRequestWarning: Unverified HTTPS request is being made to host 'www.mayoclinic.org'. Adding certificate verification is strongly advised. See: https://urllib3.readthedocs.io/en/latest/advanced-usage.html#tls-warnings\n",
      "  warnings.warn(\n",
      "C:\\Users\\kkk\\AppData\\Roaming\\Python\\Python312\\site-packages\\urllib3\\connectionpool.py:1099: InsecureRequestWarning: Unverified HTTPS request is being made to host 'www.mayoclinic.org'. Adding certificate verification is strongly advised. See: https://urllib3.readthedocs.io/en/latest/advanced-usage.html#tls-warnings\n",
      "  warnings.warn(\n",
      "C:\\Users\\kkk\\AppData\\Roaming\\Python\\Python312\\site-packages\\urllib3\\connectionpool.py:1099: InsecureRequestWarning: Unverified HTTPS request is being made to host 'www.mayoclinic.org'. Adding certificate verification is strongly advised. See: https://urllib3.readthedocs.io/en/latest/advanced-usage.html#tls-warnings\n",
      "  warnings.warn(\n",
      "C:\\Users\\kkk\\AppData\\Roaming\\Python\\Python312\\site-packages\\urllib3\\connectionpool.py:1099: InsecureRequestWarning: Unverified HTTPS request is being made to host 'www.mayoclinic.org'. Adding certificate verification is strongly advised. See: https://urllib3.readthedocs.io/en/latest/advanced-usage.html#tls-warnings\n",
      "  warnings.warn(\n",
      "C:\\Users\\kkk\\AppData\\Roaming\\Python\\Python312\\site-packages\\urllib3\\connectionpool.py:1099: InsecureRequestWarning: Unverified HTTPS request is being made to host 'www.mayoclinic.org'. Adding certificate verification is strongly advised. See: https://urllib3.readthedocs.io/en/latest/advanced-usage.html#tls-warnings\n",
      "  warnings.warn(\n",
      "C:\\Users\\kkk\\AppData\\Roaming\\Python\\Python312\\site-packages\\urllib3\\connectionpool.py:1099: InsecureRequestWarning: Unverified HTTPS request is being made to host 'www.mayoclinic.org'. Adding certificate verification is strongly advised. See: https://urllib3.readthedocs.io/en/latest/advanced-usage.html#tls-warnings\n",
      "  warnings.warn(\n",
      "C:\\Users\\kkk\\AppData\\Roaming\\Python\\Python312\\site-packages\\urllib3\\connectionpool.py:1099: InsecureRequestWarning: Unverified HTTPS request is being made to host 'www.mayoclinic.org'. Adding certificate verification is strongly advised. See: https://urllib3.readthedocs.io/en/latest/advanced-usage.html#tls-warnings\n",
      "  warnings.warn(\n",
      "C:\\Users\\kkk\\AppData\\Roaming\\Python\\Python312\\site-packages\\urllib3\\connectionpool.py:1099: InsecureRequestWarning: Unverified HTTPS request is being made to host 'www.mayoclinic.org'. Adding certificate verification is strongly advised. See: https://urllib3.readthedocs.io/en/latest/advanced-usage.html#tls-warnings\n",
      "  warnings.warn(\n",
      "C:\\Users\\kkk\\AppData\\Roaming\\Python\\Python312\\site-packages\\urllib3\\connectionpool.py:1099: InsecureRequestWarning: Unverified HTTPS request is being made to host 'www.mayoclinic.org'. Adding certificate verification is strongly advised. See: https://urllib3.readthedocs.io/en/latest/advanced-usage.html#tls-warnings\n",
      "  warnings.warn(\n",
      "C:\\Users\\kkk\\AppData\\Roaming\\Python\\Python312\\site-packages\\urllib3\\connectionpool.py:1099: InsecureRequestWarning: Unverified HTTPS request is being made to host 'www.mayoclinic.org'. Adding certificate verification is strongly advised. See: https://urllib3.readthedocs.io/en/latest/advanced-usage.html#tls-warnings\n",
      "  warnings.warn(\n",
      "C:\\Users\\kkk\\AppData\\Roaming\\Python\\Python312\\site-packages\\urllib3\\connectionpool.py:1099: InsecureRequestWarning: Unverified HTTPS request is being made to host 'www.mayoclinic.org'. Adding certificate verification is strongly advised. See: https://urllib3.readthedocs.io/en/latest/advanced-usage.html#tls-warnings\n",
      "  warnings.warn(\n",
      "C:\\Users\\kkk\\AppData\\Roaming\\Python\\Python312\\site-packages\\urllib3\\connectionpool.py:1099: InsecureRequestWarning: Unverified HTTPS request is being made to host 'www.mayoclinic.org'. Adding certificate verification is strongly advised. See: https://urllib3.readthedocs.io/en/latest/advanced-usage.html#tls-warnings\n",
      "  warnings.warn(\n",
      "C:\\Users\\kkk\\AppData\\Roaming\\Python\\Python312\\site-packages\\urllib3\\connectionpool.py:1099: InsecureRequestWarning: Unverified HTTPS request is being made to host 'www.mayoclinic.org'. Adding certificate verification is strongly advised. See: https://urllib3.readthedocs.io/en/latest/advanced-usage.html#tls-warnings\n",
      "  warnings.warn(\n",
      "C:\\Users\\kkk\\AppData\\Roaming\\Python\\Python312\\site-packages\\urllib3\\connectionpool.py:1099: InsecureRequestWarning: Unverified HTTPS request is being made to host 'www.mayoclinic.org'. Adding certificate verification is strongly advised. See: https://urllib3.readthedocs.io/en/latest/advanced-usage.html#tls-warnings\n",
      "  warnings.warn(\n",
      "C:\\Users\\kkk\\AppData\\Roaming\\Python\\Python312\\site-packages\\urllib3\\connectionpool.py:1099: InsecureRequestWarning: Unverified HTTPS request is being made to host 'www.mayoclinic.org'. Adding certificate verification is strongly advised. See: https://urllib3.readthedocs.io/en/latest/advanced-usage.html#tls-warnings\n",
      "  warnings.warn(\n",
      "C:\\Users\\kkk\\AppData\\Roaming\\Python\\Python312\\site-packages\\urllib3\\connectionpool.py:1099: InsecureRequestWarning: Unverified HTTPS request is being made to host 'www.mayoclinic.org'. Adding certificate verification is strongly advised. See: https://urllib3.readthedocs.io/en/latest/advanced-usage.html#tls-warnings\n",
      "  warnings.warn(\n",
      "C:\\Users\\kkk\\AppData\\Roaming\\Python\\Python312\\site-packages\\urllib3\\connectionpool.py:1099: InsecureRequestWarning: Unverified HTTPS request is being made to host 'www.mayoclinic.org'. Adding certificate verification is strongly advised. See: https://urllib3.readthedocs.io/en/latest/advanced-usage.html#tls-warnings\n",
      "  warnings.warn(\n",
      "C:\\Users\\kkk\\AppData\\Roaming\\Python\\Python312\\site-packages\\urllib3\\connectionpool.py:1099: InsecureRequestWarning: Unverified HTTPS request is being made to host 'www.mayoclinic.org'. Adding certificate verification is strongly advised. See: https://urllib3.readthedocs.io/en/latest/advanced-usage.html#tls-warnings\n",
      "  warnings.warn(\n",
      "C:\\Users\\kkk\\AppData\\Roaming\\Python\\Python312\\site-packages\\urllib3\\connectionpool.py:1099: InsecureRequestWarning: Unverified HTTPS request is being made to host 'www.mayoclinic.org'. Adding certificate verification is strongly advised. See: https://urllib3.readthedocs.io/en/latest/advanced-usage.html#tls-warnings\n",
      "  warnings.warn(\n",
      "C:\\Users\\kkk\\AppData\\Roaming\\Python\\Python312\\site-packages\\urllib3\\connectionpool.py:1099: InsecureRequestWarning: Unverified HTTPS request is being made to host 'www.mayoclinic.org'. Adding certificate verification is strongly advised. See: https://urllib3.readthedocs.io/en/latest/advanced-usage.html#tls-warnings\n",
      "  warnings.warn(\n",
      "C:\\Users\\kkk\\AppData\\Roaming\\Python\\Python312\\site-packages\\urllib3\\connectionpool.py:1099: InsecureRequestWarning: Unverified HTTPS request is being made to host 'www.mayoclinic.org'. Adding certificate verification is strongly advised. See: https://urllib3.readthedocs.io/en/latest/advanced-usage.html#tls-warnings\n",
      "  warnings.warn(\n",
      "C:\\Users\\kkk\\AppData\\Roaming\\Python\\Python312\\site-packages\\urllib3\\connectionpool.py:1099: InsecureRequestWarning: Unverified HTTPS request is being made to host 'www.mayoclinic.org'. Adding certificate verification is strongly advised. See: https://urllib3.readthedocs.io/en/latest/advanced-usage.html#tls-warnings\n",
      "  warnings.warn(\n",
      "C:\\Users\\kkk\\AppData\\Roaming\\Python\\Python312\\site-packages\\urllib3\\connectionpool.py:1099: InsecureRequestWarning: Unverified HTTPS request is being made to host 'www.mayoclinic.org'. Adding certificate verification is strongly advised. See: https://urllib3.readthedocs.io/en/latest/advanced-usage.html#tls-warnings\n",
      "  warnings.warn(\n",
      "C:\\Users\\kkk\\AppData\\Roaming\\Python\\Python312\\site-packages\\urllib3\\connectionpool.py:1099: InsecureRequestWarning: Unverified HTTPS request is being made to host 'www.mayoclinic.org'. Adding certificate verification is strongly advised. See: https://urllib3.readthedocs.io/en/latest/advanced-usage.html#tls-warnings\n",
      "  warnings.warn(\n",
      "C:\\Users\\kkk\\AppData\\Roaming\\Python\\Python312\\site-packages\\urllib3\\connectionpool.py:1099: InsecureRequestWarning: Unverified HTTPS request is being made to host 'newsnetwork.mayoclinic.org'. Adding certificate verification is strongly advised. See: https://urllib3.readthedocs.io/en/latest/advanced-usage.html#tls-warnings\n",
      "  warnings.warn(\n",
      "C:\\Users\\kkk\\AppData\\Roaming\\Python\\Python312\\site-packages\\urllib3\\connectionpool.py:1099: InsecureRequestWarning: Unverified HTTPS request is being made to host 'newsnetwork.mayoclinic.org'. Adding certificate verification is strongly advised. See: https://urllib3.readthedocs.io/en/latest/advanced-usage.html#tls-warnings\n",
      "  warnings.warn(\n",
      "C:\\Users\\kkk\\AppData\\Roaming\\Python\\Python312\\site-packages\\urllib3\\connectionpool.py:1099: InsecureRequestWarning: Unverified HTTPS request is being made to host 'www.mayoclinic.org'. Adding certificate verification is strongly advised. See: https://urllib3.readthedocs.io/en/latest/advanced-usage.html#tls-warnings\n",
      "  warnings.warn(\n",
      "C:\\Users\\kkk\\AppData\\Roaming\\Python\\Python312\\site-packages\\urllib3\\connectionpool.py:1099: InsecureRequestWarning: Unverified HTTPS request is being made to host 'www.mayoclinic.org'. Adding certificate verification is strongly advised. See: https://urllib3.readthedocs.io/en/latest/advanced-usage.html#tls-warnings\n",
      "  warnings.warn(\n",
      "C:\\Users\\kkk\\AppData\\Roaming\\Python\\Python312\\site-packages\\urllib3\\connectionpool.py:1099: InsecureRequestWarning: Unverified HTTPS request is being made to host 'newsnetwork.mayoclinic.org'. Adding certificate verification is strongly advised. See: https://urllib3.readthedocs.io/en/latest/advanced-usage.html#tls-warnings\n",
      "  warnings.warn(\n",
      "C:\\Users\\kkk\\AppData\\Roaming\\Python\\Python312\\site-packages\\urllib3\\connectionpool.py:1099: InsecureRequestWarning: Unverified HTTPS request is being made to host 'newsnetwork.mayoclinic.org'. Adding certificate verification is strongly advised. See: https://urllib3.readthedocs.io/en/latest/advanced-usage.html#tls-warnings\n",
      "  warnings.warn(\n"
     ]
    }
   ],
   "source": [
    "from langchain_community.document_loaders import WebBaseLoader\n",
    "loader = WebBaseLoader([\"https://www.mayoclinic.org/diseases-conditions\",\n",
    "                        \"https://www.mayoclinic.org/tests-procedures\",\n",
    "                        \"https://www.mayoclinic.org/drugs-supplements\",\n",
    "                        \"https://www.mayoclinic.org/healthy-lifestyle\",\n",
    "                        \"https://www.mayoclinic.org/diseases-conditions/fever/symptoms-causes/syc-20352759\",\n",
    "                        \"https://www.mayoclinic.org/first-aid/first-aid-fever/basics/art-20056685\",\n",
    "                        \"https://www.mayoclinic.org/diseases-conditions/fever/in-depth/fever/art-20050997\",\n",
    "                        \"https://www.mayoclinic.org/diseases-conditions/fever/diagnosis-treatment/drc-20352764\",\n",
    "                        \"https://www.mayoclinic.org/symptoms/headache/basics/definition/sym-20050800\",\n",
    "                        \"https://www.mayoclinic.org/diseases-conditions/tension-headache/in-depth/headaches/art-20046707\",\n",
    "                        \"https://www.mayoclinic.org/departments-centers/headache-subspecialty-group/overview/ovc-20443693\",\n",
    "                        \"https://www.mayoclinic.org/diseases-conditions/cluster-headache/symptoms-causes/syc-20352080\",\n",
    "                        \"https://www.mayoclinic.org/diseases-conditions/tension-headache/symptoms-causes/syc-20353977\",\n",
    "                        \"https://www.mayoclinic.org/diseases-conditions/headaches-in-children/symptoms-causes/syc-20352099\",\n",
    "                        \"https://www.mayoclinic.org/diseases-conditions/migraine-headache/in-depth/migraines/art-20047242\",\n",
    "                        \"https://www.mayoclinic.org/diseases-conditions/tension-headache/in-depth/headaches/art-20047631\",\n",
    "                        \"https://www.mayoclinic.org/diseases-conditions/tension-headache/diagnosis-treatment/drc-20353982\",\n",
    "                        \"https://www.mayoclinic.org/diseases-conditions/migraine-headache/diagnosis-treatment/drc-20360207\",\n",
    "                        \"https://newsnetwork.mayoclinic.org/discussion/6-tips-for-headache-relief/\",\n",
    "                        \"https://www.mayoclinic.org/symptoms/fatigue/basics/causes/sym-20050894\",\n",
    "                        \"https://www.mayoclinic.org/diseases-conditions/chronic-fatigue-syndrome/symptoms-causes/syc-20360490\",\n",
    "                        \"https://www.mayoclinic.org/diseases-conditions/cancer/in-depth/cancer-fatigue/art-20047709\",\n",
    "                        \"https://www.mayoclinic.org/diseases-conditions/chronic-fatigue-syndrome/diagnosis-treatment/drc-20360510\",\n",
    "                        \"https://www.mayoclinic.org/symptoms/abdominal-pain/basics/causes/sym-20050728\",\n",
    "                        \"https://www.mayoclinic.org/symptoms/abdominal-pain/basics/definition/sym-20050728?redate=28032023&p=1\",\n",
    "                        \"https://www.mayoclinic.org/symptom-checker/abdominal-pain-in-adults-adult/related-factors/itt-20009075\",\n",
    "                        \"https://www.mayoclinic.org/diseases-conditions/irritable-bowel-syndrome/symptoms-causes/syc-20360016\",\n",
    "                        \"https://www.mayoclinic.org/diseases-conditions/contact-dermatitis/symptoms-causes/syc-20352742\",\n",
    "                        \"https://www.mayoclinic.org/diseases-conditions/poison-ivy/diagnosis-treatment/drc-20376490\",\n",
    "                        \"https://www.mayoclinic.org/diseases-conditions/poison-ivy/symptoms-causes/syc-20376485\",\n",
    "                        \"https://www.mayoclinic.org/diseases-conditions/heat-rash/symptoms-causes/syc-20373276\",\n",
    "                        \"https://www.mayoclinic.org/healthy-lifestyle/infant-and-toddler-health/in-depth/baby-rashes/art-20546833\",\n",
    "                        \"https://www.mayoclinic.org/symptoms/breast-rash/basics/causes/sym-20050817\",\n",
    "                        \"https://www.mayoclinic.org/symptoms/cough/basics/definition/sym-20050846\",\n",
    "                        \"https://www.mayoclinic.org/diseases-conditions/chronic-cough/symptoms-causes/syc-20351575\",\n",
    "                        \"https://www.mayoclinic.org/diseases-conditions/chronic-cough/diagnosis-treatment/drc-20351580\",\n",
    "                        \"https://www.mayoclinic.org/symptom-checker/cough-in-children-child/related-factors/itt-20009075\",\n",
    "                        \"https://www.mayoclinic.org/symptoms/cough/basics/causes/sym-20050846?=lt%3B%2Fref%2Cgt&p=1\",\n",
    "                        \"https://www.mayoclinic.org/symptom-checker/cough-in-adults-adult/related-factors/itt-20009075\",\n",
    "                        \"https://www.mayoclinic.org/symptoms/cough/basics/when-to-see-doctor/sym-20050846\",\n",
    "\"https://www.mayoclinic.org/departments-centers/cough-clinic/overview/ovc-20399029\",\n",
    "\"https://www.mayoclinic.org/diseases-conditions/teen-depression/symptoms-causes/syc-20350985\",\n",
    "\"https://www.mayoclinic.org/diseases-conditions/depression/symptoms-causes/syc-20356007\",\n",
    "\"https://www.mayoclinic.org/diseases-conditions/seasonal-affective-disorder/symptoms-causes/syc-20364651\",\n",
    "\"https://www.mayoclinic.org/diseases-conditions/mood-disorders/symptoms-causes/syc-20365057\",\n",
    "\"https://www.mayoclinic.org/diseases-conditions/persistent-depressive-disorder/symptoms-causes/syc-20350929\",\n",
    "\"https://www.mayoclinic.org/diseases-conditions/depression/in-depth/depression/art-20047725\",\n",
    "\"https://www.mayoclinic.org/diseases-conditions/depression/expert-answers/pain-and-depression/faq-20057823\",\n",
    "\"https://www.mayoclinic.org/diseases-conditions/mental-illness/symptoms-causes/syc-20374968\",\n",
    "\"https://www.mayoclinic.org/diseases-conditions/depression/diagnosis-treatment/drc-20356013\",\n",
    "\"https://www.mayoclinic.org/healthy-lifestyle/pregnancy-week-by-week/in-depth/depression-during-pregnancy/art-20237875\",\n",
    "\"https://www.mayoclinic.org/symptoms/abdominal-pain/basics/when-to-see-doctor/sym-20050728\",\n",
    "\"https://www.mayoclinic.org/symptoms/abdominal-pain/basics/when-to-see-doctor/sym-20050728?=re&p=1\",\n",
    "\"https://www.mayoclinic.org/symptoms/diarrhea/basics/when-to-see-doctor/sym-20050926\",\n",
    "\"https://www.mayoclinic.org/symptoms/abdominal-pain/basics/definition/sym-20050728\",\n",
    "\"https://www.mayoclinic.org/diseases-conditions/gastritis/symptoms-causes/syc-20355807\",\n",
    "\"https://www.mayoclinic.org/symptoms/nausea/basics/when-to-see-doctor/sym-20050736\",\n",
    "\"https://www.mayoclinic.org/diseases-conditions/indigestion/symptoms-causes/syc-20352211\",\n",
    "\"https://www.mayoclinic.org/diseases-conditions/gas-and-gas-pains/symptoms-causes/syc-20372709\",\n",
    "\"https://www.mayoclinic.org/symptoms/abdominal-pain/basics/definition/sym-20050728?redate=28032023&p=1\",\n",
    "\"https://www.mayoclinic.org/diseases-conditions/self-injury/diagnosis-treatment/drc-20350956\",\n",
    "\"https://newsnetwork.mayoclinic.org/discussion/mayo-clinic-minute-how-to-self-care-at-home-when-you-have-covid-19/\",\n",
    "\"https://newsnetwork.mayoclinic.org/discussion/self-care-tips-to-manage-mental-health-and-wellness/\",\n",
    "\"https://www.mayoclinic.org/diseases-conditions/coronavirus/in-depth/mental-health-covid-19/art-20482731\",\n",
    "\"https://www.mayoclinic.org/diseases-conditions/coronavirus/in-depth/treating-covid-19-at-home/art-20483273\",\n",
    "\"https://newsnetwork.mayoclinic.org/discussion/home-remedies-self-care-approaches-to-treating-pain/\",\n",
    "\"https://newsnetwork.mayoclinic.org/discussion/expert-alert-back-and-neck-pain-treatments-cover-self-care-to-surgery-prevention-is-key\"\n",
    "])\n",
    "loader.requests_kwargs = {'verify':False}\n",
    "data = loader.load()\n",
    "# print(data)"
   ]
  },
  {
   "cell_type": "code",
   "execution_count": 6,
   "metadata": {},
   "outputs": [
    {
     "data": {
      "text/plain": [
       "'Medical Diseases & Conditions - Mayo Clinic\\n\\nSkip to contentCare at \\n Mayo Clinic Patient-Centered C'"
      ]
     },
     "execution_count": 6,
     "metadata": {},
     "output_type": "execute_result"
    }
   ],
   "source": [
    "len(data[0].page_content)\n",
    "data[0].page_content[0:100]"
   ]
  },
  {
   "cell_type": "code",
   "execution_count": null,
   "metadata": {},
   "outputs": [
    {
     "name": "stdout",
     "output_type": "stream",
     "text": [
      "page_content='Medical Diseases & Conditions - Mayo Clinic\n",
      "\n",
      "Skip to contentCare at \n",
      " Mayo Clinic Patient-Centered Care About Mayo Clinic Request Appointment Find a Doctor Locations Clinical Trials Connect to Support Groups Patient & Visitor Guide Billing & Insurance Departments & Centers International Services Contact UsPatient & Visitor Guide Health \n",
      " Library Diseases & Conditions Symptoms Tests & Procedures Drugs & Supplements Healthy Lifestyle Books & SubscriptionsDiseases & Conditions For Medical \n",
      " Professionals Medical Professional Resources Refer a Patient Continuing Medical Education AskMayoExpert Mayo Clinic Laboratories Video Center Journals & Publications Mayo Clinic Alumni AssociationContinuing Medical Education Research & Education \n",
      " at Mayo ClinicResearch Research at Mayo Clinic Research Faculty Laboratories Core Facilities Centers & Programs Departments & Divisions Clinical Trials Institutional Review Board Postdoctoral Fellowships Training Grant ProgramsEducation Mayo Clinic College of Medicine and Science Mayo Clinic Graduate School of Biomedical Sciences Mayo Clinic Alix School of Medicine Mayo Clinic School of Graduate Medical Education Mayo Clinic School of Health Sciences Mayo Clinic School of Continuous Professional DevelopmentMayo Clinic College of Medicine and Science Giving to \n",
      " Mayo Clinic Give Now Giving to Mayo Clinic Frequently Asked Questions Contact Us to GiveMake a Donation  Request appointment Log inSearchMenu Request appointment Donate Diseases & conditions Find a doctorCare at Mayo Clinic Patient-Centered Care About Mayo Clinic Request Appointment Find a Doctor Locations Clinical Trials Connect to Support Groups Patient & Visitor Guide Billing & Insurance Departments & Centers International Services Contact UsPatient & Visitor Guide Health Library Diseases & Conditions Symptoms Tests & Procedures Drugs & Supplements Healthy Lifestyle Books & SubscriptionsDiseases & Conditions For Medical Professionals Medical Professional Resources Refer a Patient Continuing Medical Education AskMayoExpert Mayo Clinic Laboratories Video Center Journals & Publications Mayo Clinic Alumni AssociationContinuing Medical Education Research & Education at Mayo ClinicResearch Research at Mayo Clinic Research Faculty Laboratories Core Facilities Centers & Programs Departments & Divisions Clinical Trials Institutional Review Board Postdoctoral Fellowships Training Grant ProgramsEducation Mayo Clinic College of Medicine and Science Mayo Clinic Graduate School of Biomedical Sciences Mayo Clinic Alix School of Medicine Mayo Clinic School of Graduate Medical Education Mayo Clinic School of Health Sciences Mayo Clinic School of Continuous Professional DevelopmentMayo Clinic College of Medicine and Science Giving to Mayo Clinic Give Now Giving to Mayo Clinic Frequently Asked Questions Contact Us to GiveMake a Donation HomeHomeDiseases & ConditionsDiseases & ConditionsEasy-to-understand answers about diseases and conditions\n",
      "Skip this SectionFind diseases & conditions by first letter A' metadata={'source': 'https://www.mayoclinic.org/diseases-conditions', 'title': 'Medical Diseases & Conditions - Mayo Clinic', 'language': 'en'}\n",
      "page_content=' ConditionsEasy-to-understand answers about diseases and conditions\n",
      "Skip this SectionFind diseases & conditions by first letter A B C D E F G H I J K L M N O P R S T U V W X Y Z #Symptom CheckerFind out what could be causing your symptoms and when to seek care.\n",
      " Check symptoms Clinical trialsSearch for clinical trials by disease, treatment, or drug name.\n",
      " Search clinical trials Connect to support groupsShare your experiences and find support in our online communities.\n",
      " Find a support group The right answers, the first timeMayo Clinic experts solve the world’s toughest medical problems — one patient at a time.\n",
      " Learn about Mayo Clinic Skip AdvertisementAdvertisementMayo Clinic does not endorse companies or products. Advertising revenue supports our non-profit mission.\n",
      "Advertising & SponsorshipPolicyOpportunitiesAd ChoicesDon’t miss your chance! Give NowGive by Dec. 3 to double your impact.\n",
      " Give Now Find a doctor Explore careers Sign up for free e-newslettersAbout Mayo Clinic   About this Site Contact Us Locations Health Information Policy Medicare Accountable Care Organization (ACO) Media Requests News Network Price TransparencyMedical Professionals  AskMayoExpert Clinical Trials Mayo Clinic Alumni Association Refer a PatientBusinesses   Executive Health Program International Business Collaborations Facilities & Real Estate Supplier InformationMedical Professionals  AskMayoExpert Clinical Trials Mayo Clinic Alumni Association Refer a PatientBusinesses   Executive Health Program International Business Collaborations Facilities & Real Estate Supplier InformationStudents    Admissions Requirements Degree Programs Student & Faculty PortalStudents   Degree Programs Admissions Requirements Student & Faculty PortalResearchers   Research Faculty LaboratoriesInternational Patients  Appointments Financial Services International Locations & OfficesCharitable Care & Financial Assistance  Community Health Needs Assessment Financial Assistance Documents – Arizona Financial Assistance Documents – Florida Financial Assistance Documents – MinnesotaFollow Mayo Clinic X Youtube Facebook Linkedin InstagramGet the Mayo Clinic app Terms & Conditions Privacy Policy Notice of Privacy Practices Notice of Nondiscrimination Accessibility Statement Advertising & Sponsorship Policy Site Map Manage Cookies Terms and Conditions Privacy Policy Notice of Privacy Practices Notice of Nondiscrimination Accessibility Statement Advertising and Sponsorship Policy Site Map Manage CookiesLanguage:English English Español العربية 简体中文© 1998-2024 Mayo Foundation for Medical Education and Research (MFMER). All rights reserved.\n",
      "Language:English English Español العر' metadata={'source': 'https://www.mayoclinic.org/diseases-conditions', 'title': 'Medical Diseases & Conditions - Mayo Clinic', 'language': 'en'}\n",
      "page_content=' Education and Research (MFMER). All rights reserved.\n",
      "Language:English English Español العربية 简体中文' metadata={'source': 'https://www.mayoclinic.org/diseases-conditions', 'title': 'Medical Diseases & Conditions - Mayo Clinic', 'language': 'en'}\n"
     ]
    }
   ],
   "source": [
    "text_splitter = TokenTextSplitter(chunk_size=512, chunk_overlap=24)\n",
    "documents = text_splitter.split_documents(data)\n",
    "\n",
    "print(documents[0])\n",
    "print(documents[1])\n",
    "print(documents[2])"
   ]
  },
  {
   "cell_type": "code",
   "execution_count": null,
   "metadata": {},
   "outputs": [],
   "source": [
    "llm=ChatOpenAI(temperature=0, model_name=\"gpt-3.5-turbo-0125\") # gpt-4-0125-preview occasionally has issues\n",
    "llm_transformer = LLMGraphTransformer(llm=llm)\n",
    "\n",
    "# Following needs to be used only first time to load the data. It took 3m 44s\n",
    "graph_documents = llm_transformer.convert_to_graph_documents(documents)"
   ]
  },
  {
   "cell_type": "code",
   "execution_count": null,
   "metadata": {},
   "outputs": [
    {
     "name": "stdout",
     "output_type": "stream",
     "text": [
      "page_content='\n",
      "Request an Appointment\n",
      "\n",
      "\n",
      "\n",
      "\n",
      "Clinical trials at Mayo Clinic\n",
      "\n",
      "Mayo Clinic conducts thousands of clinical trials and research studies each year.\n",
      "Find active clinical trials\n",
      "\n",
      "\n",
      "\n",
      "\n",
      "\n",
      "\n",
      "Featured topics\n",
      "\n",
      "\n",
      "\n",
      "\n",
      "\n",
      "\n",
      " \n",
      "Cancer\n",
      "Mayo Clinic cancer specialists use innovative therapies to treat even the rarest of cancers while helping you maintain your quality of life.\n",
      "Chemotherapy - CancerChemotherapyMinimally invasive surgery - CancerMinimally invasive surgeryRadiation therapy - CancerRadiation therapyProton Beam Therapy Program - CancerProton Beam Therapy ProgramLearn more about cancer care at Mayo Clinic - CancerLearn more about cancer care at Mayo Clinic\n",
      "\n",
      "\n",
      "\n",
      "\n",
      " \n",
      "Cardiovascular Diseases and Surgery\n",
      "Mayo Clinic heart specialists have extensive experience in treating heart disease, and perform more than 10,000 cardiac procedures and 4,000 surgeries each year, including complex and minimally invasive surgical procedures.\n",
      "Cardiovascular Surgery - Cardiovascular Diseases and SurgeryCardiovascular SurgeryCardiac ablation - Cardiovascular Diseases and SurgeryCardiac ablationCardiac catheterization - Cardiovascular Diseases and SurgeryCardiac catheterizationMinimally invasive heart surgery - Cardiovascular Diseases and SurgeryMinimally invasive heart surgeryVentricular assist device (VAD) - Cardiovascular Diseases and SurgeryVentricular assist device (VAD)\n",
      "\n",
      "\n",
      "\n",
      "\n",
      "\n",
      "\n",
      " \n",
      "Neurology and Neurosurgery\n",
      "Mayo Clinic's departments of Neurology and Neurosurgery are highly rated for their patient outcomes and research achievements.\n",
      "Awake brain surgery - Neurology and NeurosurgeryAwake brain surgeryComputer-assisted brain surgery - Neurology and NeurosurgeryComputer-assisted brain surgeryDeep brain stimulation - Neurology and NeurosurgeryDeep brain stimulationIntraoperative magnetic resonance imaging (iMRI) - Neurology and NeurosurgeryIntraoperative magnetic resonance imaging (iMRI)Stereotactic radiosurgery - Neurology and NeurosurgeryStereotactic radiosurgery\n",
      "\n",
      "\n",
      "\n",
      "\n",
      " \n",
      "Transplant\n",
      "Mayo Clinic is the largest integrated transplant provider in the United States, performing all solid organ and bone marrow transplants.\n",
      "Lung transplant - TransplantLung transplantHeart transplant - TransplantHeart transplantLiving-donor liver transplant - TransplantLiving-donor liver transplantLiving-donor kidney transplant - TransplantLiving-donor kidney transplantBone marrow transplant - TransplantBone marrow transplant\n",
      "\n",
      "\n",
      "\n",
      "\n",
      "\n",
      "\n",
      "\n",
      "\n",
      "\n",
      "Advertisement\n",
      "\n",
      "\n",
      "\n",
      "Mayo Clinic does not endorse companies or products. Advertising revenue supports' metadata={'source': 'https://www.mayoclinic.org/tests-procedures', 'title': '\\r\\n\\tTests and Procedures - Tests and Procedures - Mayo Clinic\\r\\n', 'language': 'en'}\n",
      "nodes=[Node(id='Mayo Clinic', type='Organization', properties={}), Node(id='Clinical Trials', type='Activity', properties={}), Node(id='Cancer', type='Medical condition', properties={}), Node(id='Chemotherapy', type='Medical treatment', properties={}), Node(id='Minimally Invasive Surgery', type='Medical treatment', properties={}), Node(id='Radiation Therapy', type='Medical treatment', properties={}), Node(id='Proton Beam Therapy Program', type='Medical treatment', properties={}), Node(id='Cardiovascular Diseases And Surgery', type='Medical specialty', properties={}), Node(id='Cardiovascular Surgery', type='Medical treatment', properties={}), Node(id='Cardiac Ablation', type='Medical treatment', properties={}), Node(id='Cardiac Catheterization', type='Medical treatment', properties={}), Node(id='Minimally Invasive Heart Surgery', type='Medical treatment', properties={}), Node(id='Ventricular Assist Device (Vad)', type='Medical device', properties={}), Node(id='Neurology And Neurosurgery', type='Medical specialty', properties={}), Node(id='Awake Brain Surgery', type='Medical procedure', properties={}), Node(id='Computer-Assisted Brain Surgery', type='Medical procedure', properties={}), Node(id='Deep Brain Stimulation', type='Medical procedure', properties={}), Node(id='Intraoperative Magnetic Resonance Imaging (Imri)', type='Medical procedure', properties={}), Node(id='Stereotactic Radiosurgery', type='Medical procedure', properties={}), Node(id='Transplant', type='Medical specialty', properties={}), Node(id='Lung Transplant', type='Medical procedure', properties={}), Node(id='Heart Transplant', type='Medical procedure', properties={}), Node(id='Living-Donor Liver Transplant', type='Medical procedure', properties={}), Node(id='Living-Donor Kidney Transplant', type='Medical procedure', properties={}), Node(id='Bone Marrow Transplant', type='Medical procedure', properties={})] relationships=[Relationship(source=Node(id='Mayo Clinic', type='Organization', properties={}), target=Node(id='Clinical Trials', type='Activity', properties={}), type='CONDUCTS', properties={}), Relationship(source=Node(id='Mayo Clinic', type='Organization', properties={}), target=Node(id='Cancer', type='Medical condition', properties={}), type='TREATS', properties={}), Relationship(source=Node(id='Mayo Clinic', type='Organization', properties={}), target=Node(id='Cardiovascular Diseases And Surgery', type='Medical specialty', properties={}), type='TREATS', properties={}), Relationship(source=Node(id='Mayo Clinic', type='Organization', properties={}), target=Node(id='Neurology And Neurosurgery', type='Medical specialty', properties={}), type='TREATS', properties={}), Relationship(source=Node(id='Mayo Clinic', type='Organization', properties={}), target=Node(id='Transplant', type='Medical specialty', properties={}), type='TREATS', properties={})] source=Document(metadata={'source': 'https://www.mayoclinic.org/tests-procedures', 'title': '\\r\\n\\tTests and Procedures - Tests and Procedures - Mayo Clinic\\r\\n', 'language': 'en'}, page_content=\"\\nRequest an Appointment\\n\\n\\n\\n\\r\\nClinical trials at Mayo Clinic\\r\\n\\nMayo Clinic conducts thousands of clinical trials and research studies each year.\\nFind active clinical trials\\n\\n\\n\\n\\n\\n\\nFeatured topics\\n\\n\\n\\n\\n\\n\\n \\nCancer\\nMayo Clinic cancer specialists use innovative therapies to treat even the rarest of cancers while helping you maintain your quality of life.\\nChemotherapy - CancerChemotherapyMinimally invasive surgery - CancerMinimally invasive surgeryRadiation therapy - CancerRadiation therapyProton Beam Therapy Program - CancerProton Beam Therapy ProgramLearn more about cancer care at Mayo Clinic - CancerLearn more about cancer care at Mayo Clinic\\n\\n\\n\\n\\n \\nCardiovascular Diseases and Surgery\\nMayo Clinic heart specialists have extensive experience in treating heart disease, and perform more than 10,000 cardiac procedures and 4,000 surgeries each year, including complex and minimally invasive surgical procedures.\\nCardiovascular Surgery - Cardiovascular Diseases and SurgeryCardiovascular SurgeryCardiac ablation - Cardiovascular Diseases and SurgeryCardiac ablationCardiac catheterization - Cardiovascular Diseases and SurgeryCardiac catheterizationMinimally invasive heart surgery - Cardiovascular Diseases and SurgeryMinimally invasive heart surgeryVentricular assist device (VAD) - Cardiovascular Diseases and SurgeryVentricular assist device (VAD)\\n\\n\\n\\n\\n\\n\\n \\nNeurology and Neurosurgery\\nMayo Clinic's departments of Neurology and Neurosurgery are highly rated for their patient outcomes and research achievements.\\nAwake brain surgery - Neurology and NeurosurgeryAwake brain surgeryComputer-assisted brain surgery - Neurology and NeurosurgeryComputer-assisted brain surgeryDeep brain stimulation - Neurology and NeurosurgeryDeep brain stimulationIntraoperative magnetic resonance imaging (iMRI) - Neurology and NeurosurgeryIntraoperative magnetic resonance imaging (iMRI)Stereotactic radiosurgery - Neurology and NeurosurgeryStereotactic radiosurgery\\n\\n\\n\\n\\n \\nTransplant\\nMayo Clinic is the largest integrated transplant provider in the United States, performing all solid organ and bone marrow transplants.\\nLung transplant - TransplantLung transplantHeart transplant - TransplantHeart transplantLiving-donor liver transplant - TransplantLiving-donor liver transplantLiving-donor kidney transplant - TransplantLiving-donor kidney transplantBone marrow transplant - TransplantBone marrow transplant\\n\\n\\n\\n\\n\\n\\n\\n\\n\\nAdvertisement\\n\\n\\n\\nMayo Clinic does not endorse companies or products. Advertising revenue supports\")\n"
     ]
    }
   ],
   "source": [
    "graph.add_graph_documents(\n",
    "    graph_documents,\n",
    "    baseEntityLabel=True,\n",
    "    include_source=True\n",
    ")\n",
    "\n",
    "print (documents[5])\n",
    "print(graph_documents[5])"
   ]
  },
  {
   "cell_type": "code",
   "execution_count": null,
   "metadata": {},
   "outputs": [
    {
     "name": "stderr",
     "output_type": "stream",
     "text": [
      "Received notification from DBMS server: {severity: WARNING} {code: Neo.ClientNotification.Statement.UnknownRelationshipTypeWarning} {category: UNRECOGNIZED} {title: The provided relationship type is not in the database.} {description: One of the relationship types in your query is not available in the database, make sure you didn't misspell it or that the label is available when you run this statement in your application (the missing relationship type is: MENTIONS)} {position: line: 1, column: 15, offset: 14} for query: 'MATCH (s)-[r:!MENTIONS]->(t) RETURN s,r,t LIMIT 50'\n"
     ]
    },
    {
     "data": {
      "application/vnd.jupyter.widget-view+json": {
       "model_id": "738d274d4b3847ae987589c609aae508",
       "version_major": 2,
       "version_minor": 0
      },
      "text/plain": [
       "GraphWidget(layout=Layout(height='500px', width='100%'))"
      ]
     },
     "metadata": {},
     "output_type": "display_data"
    }
   ],
   "source": [
    "# directly show the graph resulting from the given Cypher query\n",
    "default_cypher = \"MATCH (s)-[r:!MENTIONS]->(t) RETURN s,r,t LIMIT 50\"\n",
    "\n",
    "def showGraph(cypher: str = default_cypher):\n",
    "    # create a neo4j session to run queries\n",
    "    driver = GraphDatabase.driver(\n",
    "        uri = os.environ[\"NEO4J_URI\"],\n",
    "        auth = (os.environ[\"NEO4J_USERNAME\"],\n",
    "                os.environ[\"NEO4J_PASSWORD\"]))\n",
    "    session = driver.session()\n",
    "    widget = GraphWidget(graph = session.run(cypher).graph())\n",
    "    widget.node_label_mapping = 'id'\n",
    "    #display(widget)\n",
    "    return widget\n",
    "\n",
    "showGraph()"
   ]
  },
  {
   "cell_type": "code",
   "execution_count": null,
   "metadata": {},
   "outputs": [],
   "source": [
    "vector_index = Neo4jVector.from_existing_graph(\n",
    "    OpenAIEmbeddings(),\n",
    "    search_type=\"hybrid\",\n",
    "    node_label=\"Document\",\n",
    "    text_node_properties=[\"text\"],\n",
    "    embedding_node_property=\"embedding\"\n",
    ")"
   ]
  },
  {
   "cell_type": "code",
   "execution_count": null,
   "metadata": {},
   "outputs": [
    {
     "ename": "NameError",
     "evalue": "name 'graph' is not defined",
     "output_type": "error",
     "traceback": [
      "\u001b[1;31m---------------------------------------------------------------------------\u001b[0m",
      "\u001b[1;31mNameError\u001b[0m                                 Traceback (most recent call last)",
      "Cell \u001b[1;32mIn[12], line 3\u001b[0m\n\u001b[0;32m      1\u001b[0m \u001b[38;5;66;03m# Retriever\u001b[39;00m\n\u001b[1;32m----> 3\u001b[0m \u001b[43mgraph\u001b[49m\u001b[38;5;241m.\u001b[39mquery(\n\u001b[0;32m      4\u001b[0m     \u001b[38;5;124m\"\u001b[39m\u001b[38;5;124mCREATE FULLTEXT INDEX entity IF NOT EXISTS FOR (e:__Entity__) ON EACH [e.id]\u001b[39m\u001b[38;5;124m\"\u001b[39m)\n\u001b[0;32m      6\u001b[0m \u001b[38;5;66;03m# Extract entities from text\u001b[39;00m\n\u001b[0;32m      7\u001b[0m \u001b[38;5;28;01mclass\u001b[39;00m \u001b[38;5;21;01mEntities\u001b[39;00m(BaseModel):\n",
      "\u001b[1;31mNameError\u001b[0m: name 'graph' is not defined"
     ]
    }
   ],
   "source": [
    "# Retriever\n",
    "\n",
    "graph.query(\n",
    "    \"CREATE FULLTEXT INDEX entity IF NOT EXISTS FOR (e:__Entity__) ON EACH [e.id]\")\n",
    "\n",
    "# Extract entities from text\n",
    "class Entities(BaseModel):\n",
    "    \"\"\"Identifying information about entities.\"\"\"\n",
    "\n",
    "    names: List[str] = Field(\n",
    "        ...,\n",
    "        description=\"All the courses, requirements, or business entities that \"\n",
    "        \"appear in the text\",\n",
    "    )\n",
    "\n",
    "prompt = ChatPromptTemplate.from_messages(\n",
    "    [\n",
    "        (\n",
    "            \"system\",\n",
    "            \"You are extracting course, professors, requirements, project entities from the text.\",\n",
    "        ),\n",
    "        (\n",
    "            \"human\",\n",
    "            \"Use the given format to extract information from the following \"\n",
    "            \"input: {question}\",\n",
    "        ),\n",
    "    ]\n",
    ")\n",
    "\n",
    "entity_chain = prompt | llm.with_structured_output(Entities)"
   ]
  },
  {
   "cell_type": "code",
   "execution_count": null,
   "metadata": {},
   "outputs": [],
   "source": [
    "def generate_full_text_query(input: str) -> str:\n",
    "    \"\"\"\n",
    "    Generate a full-text search query for a given input string.\n",
    "\n",
    "    This function constructs a query string suitable for a full-text search.\n",
    "    It processes the input string by splitting it into words and appending a\n",
    "    similarity threshold (~2 changed characters) to each word, then combines\n",
    "    them using the AND operator. Useful for mapping entities from user questions\n",
    "    to database values, and allows for some misspelings.\n",
    "    \"\"\"\n",
    "    full_text_query = \"\"\n",
    "    words = [el for el in remove_lucene_chars(input).split() if el]\n",
    "    for word in words[:-1]:\n",
    "        full_text_query += f\" {word}~2 AND\"\n",
    "    full_text_query += f\" {words[-1]}~2\"\n",
    "    return full_text_query.strip()\n",
    "\n",
    "# Fulltext index query\n",
    "def structured_retriever(question: str) -> str:\n",
    "    \"\"\"\n",
    "    Collects the neighborhood of entities mentioned\n",
    "    in the question\n",
    "    \"\"\"\n",
    "    result = \"\"\n",
    "    entities = entity_chain.invoke({\"question\": question})\n",
    "    for entity in entities.names:\n",
    "        response = graph.query(\n",
    "            \"\"\"CALL db.index.fulltext.queryNodes('entity', $query, {limit:2})\n",
    "            YIELD node,score\n",
    "            CALL {\n",
    "              WITH node\n",
    "              MATCH (node)-[r:!MENTIONS]->(neighbor)\n",
    "              RETURN node.id + ' - ' + type(r) + ' -> ' + neighbor.id AS output\n",
    "              UNION ALL\n",
    "              WITH node\n",
    "              MATCH (node)<-[r:!MENTIONS]-(neighbor)\n",
    "              RETURN neighbor.id + ' - ' + type(r) + ' -> ' +  node.id AS output\n",
    "            }\n",
    "            RETURN output LIMIT 50\n",
    "            \"\"\",\n",
    "            {\"query\": generate_full_text_query(entity)},\n",
    "        )\n",
    "        result += \"\\n\".join([el['output'] for el in response])\n",
    "    return result"
   ]
  },
  {
   "cell_type": "code",
   "execution_count": null,
   "metadata": {},
   "outputs": [],
   "source": [
    "def retriever(question: str):\n",
    "    print(f\"Search query: {question}\")\n",
    "    structured_data = structured_retriever(question)\n",
    "    unstructured_data = [el.page_content for el in vector_index.similarity_search(question)]\n",
    "    final_data = f\"\"\"Structured data:\n",
    "{structured_data}\n",
    "Unstructured data:\n",
    "{\"#Document \". join(unstructured_data)}\n",
    "    \"\"\"\n",
    "    return final_data"
   ]
  },
  {
   "cell_type": "code",
   "execution_count": null,
   "metadata": {},
   "outputs": [],
   "source": [
    "# Condense a chat history and follow-up question into a standalone question\n",
    "_template = \"\"\"Given the following conversation and a follow up question, rephrase the follow up question to be a standalone question,\n",
    "in its original language.\n",
    "Chat History:\n",
    "{chat_history}\n",
    "Follow Up Input: {question}\n",
    "Standalone question:\"\"\"  # noqa: E501\n",
    "CONDENSE_QUESTION_PROMPT = PromptTemplate.from_template(_template)\n",
    "\n",
    "def _format_chat_history(chat_history: List[Tuple[str, str]]) -> List:\n",
    "    buffer = []\n",
    "    for human, ai in chat_history:\n",
    "        buffer.append(HumanMessage(content=human))\n",
    "        buffer.append(AIMessage(content=ai))\n",
    "    return buffer\n",
    "\n",
    "_search_query = RunnableBranch(\n",
    "    # If input includes chat_history, we condense it with the follow-up question\n",
    "    (\n",
    "        RunnableLambda(lambda x: bool(x.get(\"chat_history\"))).with_config(\n",
    "            run_name=\"HasChatHistoryCheck\"\n",
    "        ),  # Condense follow-up question and chat into a standalone_question\n",
    "        RunnablePassthrough.assign(\n",
    "            chat_history=lambda x: _format_chat_history(x[\"chat_history\"])\n",
    "        )\n",
    "        | CONDENSE_QUESTION_PROMPT\n",
    "        | ChatOpenAI(temperature=0)\n",
    "        | StrOutputParser(),\n",
    "    ),\n",
    "    # Else, we have no chat history, so just pass through the question\n",
    "    RunnableLambda(lambda x : x[\"question\"]),\n",
    ")"
   ]
  },
  {
   "cell_type": "code",
   "execution_count": null,
   "metadata": {},
   "outputs": [],
   "source": [
    "# Answer the question based only on the following context\n",
    "template = \"\"\"Answer the query:\n",
    "{context}\n",
    "\n",
    "Question: {question}\n",
    "Use natural language and be concise.\n",
    "Answer:\"\"\"\n",
    "prompt = ChatPromptTemplate.from_template(template)\n",
    "\n",
    "chain = (\n",
    "    RunnableParallel(\n",
    "        {\n",
    "            \"context\": _search_query | retriever,\n",
    "            \"question\": RunnablePassthrough(),\n",
    "        }\n",
    "    )\n",
    "    | prompt\n",
    "    | llm\n",
    "    | StrOutputParser()\n",
    ")"
   ]
  },
  {
   "cell_type": "code",
   "execution_count": null,
   "metadata": {},
   "outputs": [
    {
     "name": "stdout",
     "output_type": "stream",
     "text": [
      "Search query: What is the minimum score of Duolingo?\n"
     ]
    },
    {
     "name": "stderr",
     "output_type": "stream",
     "text": [
      "Received notification from DBMS server: {severity: WARNING} {code: Neo.ClientNotification.Statement.FeatureDeprecationWarning} {category: DEPRECATION} {title: This feature is deprecated and will be removed in future versions.} {description: CALL subquery without a variable scope clause is now deprecated. Use CALL (node, node) { ... }} {position: line: 3, column: 13, offset: 104} for query: \"CALL db.index.fulltext.queryNodes('entity', $query, {limit:2})\\n            YIELD node,score\\n            CALL {\\n              WITH node\\n              MATCH (node)-[r:!MENTIONS]->(neighbor)\\n              RETURN node.id + ' - ' + type(r) + ' -> ' + neighbor.id AS output\\n              UNION ALL\\n              WITH node\\n              MATCH (node)<-[r:!MENTIONS]-(neighbor)\\n              RETURN neighbor.id + ' - ' + type(r) + ' -> ' +  node.id AS output\\n            }\\n            RETURN output LIMIT 50\\n            \"\n",
      "Received notification from DBMS server: {severity: WARNING} {code: Neo.ClientNotification.Statement.UnknownRelationshipTypeWarning} {category: UNRECOGNIZED} {title: The provided relationship type is not in the database.} {description: One of the relationship types in your query is not available in the database, make sure you didn't misspell it or that the label is available when you run this statement in your application (the missing relationship type is: MENTIONS)} {position: line: 5, column: 32, offset: 166} for query: \"CALL db.index.fulltext.queryNodes('entity', $query, {limit:2})\\n            YIELD node,score\\n            CALL {\\n              WITH node\\n              MATCH (node)-[r:!MENTIONS]->(neighbor)\\n              RETURN node.id + ' - ' + type(r) + ' -> ' + neighbor.id AS output\\n              UNION ALL\\n              WITH node\\n              MATCH (node)<-[r:!MENTIONS]-(neighbor)\\n              RETURN neighbor.id + ' - ' + type(r) + ' -> ' +  node.id AS output\\n            }\\n            RETURN output LIMIT 50\\n            \"\n",
      "Received notification from DBMS server: {severity: WARNING} {code: Neo.ClientNotification.Statement.UnknownRelationshipTypeWarning} {category: UNRECOGNIZED} {title: The provided relationship type is not in the database.} {description: One of the relationship types in your query is not available in the database, make sure you didn't misspell it or that the label is available when you run this statement in your application (the missing relationship type is: MENTIONS)} {position: line: 9, column: 33, offset: 348} for query: \"CALL db.index.fulltext.queryNodes('entity', $query, {limit:2})\\n            YIELD node,score\\n            CALL {\\n              WITH node\\n              MATCH (node)-[r:!MENTIONS]->(neighbor)\\n              RETURN node.id + ' - ' + type(r) + ' -> ' + neighbor.id AS output\\n              UNION ALL\\n              WITH node\\n              MATCH (node)<-[r:!MENTIONS]-(neighbor)\\n              RETURN neighbor.id + ' - ' + type(r) + ' -> ' +  node.id AS output\\n            }\\n            RETURN output LIMIT 50\\n            \"\n",
      "Received notification from DBMS server: {severity: WARNING} {code: Neo.ClientNotification.Statement.FeatureDeprecationWarning} {category: DEPRECATION} {title: This feature is deprecated and will be removed in future versions.} {description: CALL subquery without a variable scope clause is now deprecated. Use CALL (node, node) { ... }} {position: line: 3, column: 13, offset: 104} for query: \"CALL db.index.fulltext.queryNodes('entity', $query, {limit:2})\\n            YIELD node,score\\n            CALL {\\n              WITH node\\n              MATCH (node)-[r:!MENTIONS]->(neighbor)\\n              RETURN node.id + ' - ' + type(r) + ' -> ' + neighbor.id AS output\\n              UNION ALL\\n              WITH node\\n              MATCH (node)<-[r:!MENTIONS]-(neighbor)\\n              RETURN neighbor.id + ' - ' + type(r) + ' -> ' +  node.id AS output\\n            }\\n            RETURN output LIMIT 50\\n            \"\n",
      "Received notification from DBMS server: {severity: WARNING} {code: Neo.ClientNotification.Statement.UnknownRelationshipTypeWarning} {category: UNRECOGNIZED} {title: The provided relationship type is not in the database.} {description: One of the relationship types in your query is not available in the database, make sure you didn't misspell it or that the label is available when you run this statement in your application (the missing relationship type is: MENTIONS)} {position: line: 5, column: 32, offset: 166} for query: \"CALL db.index.fulltext.queryNodes('entity', $query, {limit:2})\\n            YIELD node,score\\n            CALL {\\n              WITH node\\n              MATCH (node)-[r:!MENTIONS]->(neighbor)\\n              RETURN node.id + ' - ' + type(r) + ' -> ' + neighbor.id AS output\\n              UNION ALL\\n              WITH node\\n              MATCH (node)<-[r:!MENTIONS]-(neighbor)\\n              RETURN neighbor.id + ' - ' + type(r) + ' -> ' +  node.id AS output\\n            }\\n            RETURN output LIMIT 50\\n            \"\n",
      "Received notification from DBMS server: {severity: WARNING} {code: Neo.ClientNotification.Statement.UnknownRelationshipTypeWarning} {category: UNRECOGNIZED} {title: The provided relationship type is not in the database.} {description: One of the relationship types in your query is not available in the database, make sure you didn't misspell it or that the label is available when you run this statement in your application (the missing relationship type is: MENTIONS)} {position: line: 9, column: 33, offset: 348} for query: \"CALL db.index.fulltext.queryNodes('entity', $query, {limit:2})\\n            YIELD node,score\\n            CALL {\\n              WITH node\\n              MATCH (node)-[r:!MENTIONS]->(neighbor)\\n              RETURN node.id + ' - ' + type(r) + ' -> ' + neighbor.id AS output\\n              UNION ALL\\n              WITH node\\n              MATCH (node)<-[r:!MENTIONS]-(neighbor)\\n              RETURN neighbor.id + ' - ' + type(r) + ' -> ' +  node.id AS output\\n            }\\n            RETURN output LIMIT 50\\n            \"\n",
      "Received notification from DBMS server: {severity: WARNING} {code: Neo.ClientNotification.Statement.FeatureDeprecationWarning} {category: DEPRECATION} {title: This feature is deprecated and will be removed in future versions.} {description: CALL subquery without a variable scope clause is now deprecated. Use CALL () { ... }} {position: line: 1, column: 1, offset: 0} for query: \"CALL { CALL db.index.vector.queryNodes($index, $k, $embedding) YIELD node, score WITH collect({node:node, score:score}) AS nodes, max(score) AS max UNWIND nodes AS n RETURN n.node AS node, (n.score / max) AS score UNION CALL db.index.fulltext.queryNodes($keyword_index, $query, {limit: $k}) YIELD node, score WITH collect({node:node, score:score}) AS nodes, max(score) AS max UNWIND nodes AS n RETURN n.node AS node, (n.score / max) AS score } WITH node, max(score) AS score ORDER BY score DESC LIMIT $k RETURN reduce(str='', k IN ['text'] | str + '\\\\n' + k + ': ' + coalesce(node[k], '')) AS text, node {.*, `embedding`: Null, id: Null, `text`: Null} AS metadata, score\"\n"
     ]
    },
    {
     "data": {
      "text/plain": [
       "'Structured data refers to data that is organized in a predefined format, such as databases or spreadsheets. Unstructured data refers to data that does not have a specific format, such as text documents or social media posts.'"
      ]
     },
     "execution_count": 18,
     "metadata": {},
     "output_type": "execute_result"
    }
   ],
   "source": [
    "# Fever-related questions\n",
    "chain.invoke({\"question\": \"What are the common symptoms of fever?\"})"
   ]
  },
  {
   "cell_type": "code",
   "execution_count": null,
   "metadata": {},
   "outputs": [
    {
     "name": "stdout",
     "output_type": "stream",
     "text": [
      "Search query: Is the minimum score for Dulingo 110 ?\n"
     ]
    },
    {
     "name": "stderr",
     "output_type": "stream",
     "text": [
      "Received notification from DBMS server: {severity: WARNING} {code: Neo.ClientNotification.Statement.FeatureDeprecationWarning} {category: DEPRECATION} {title: This feature is deprecated and will be removed in future versions.} {description: CALL subquery without a variable scope clause is now deprecated. Use CALL (node, node) { ... }} {position: line: 3, column: 13, offset: 104} for query: \"CALL db.index.fulltext.queryNodes('entity', $query, {limit:2})\\n            YIELD node,score\\n            CALL {\\n              WITH node\\n              MATCH (node)-[r:!MENTIONS]->(neighbor)\\n              RETURN node.id + ' - ' + type(r) + ' -> ' + neighbor.id AS output\\n              UNION ALL\\n              WITH node\\n              MATCH (node)<-[r:!MENTIONS]-(neighbor)\\n              RETURN neighbor.id + ' - ' + type(r) + ' -> ' +  node.id AS output\\n            }\\n            RETURN output LIMIT 50\\n            \"\n",
      "Received notification from DBMS server: {severity: WARNING} {code: Neo.ClientNotification.Statement.UnknownRelationshipTypeWarning} {category: UNRECOGNIZED} {title: The provided relationship type is not in the database.} {description: One of the relationship types in your query is not available in the database, make sure you didn't misspell it or that the label is available when you run this statement in your application (the missing relationship type is: MENTIONS)} {position: line: 5, column: 32, offset: 166} for query: \"CALL db.index.fulltext.queryNodes('entity', $query, {limit:2})\\n            YIELD node,score\\n            CALL {\\n              WITH node\\n              MATCH (node)-[r:!MENTIONS]->(neighbor)\\n              RETURN node.id + ' - ' + type(r) + ' -> ' + neighbor.id AS output\\n              UNION ALL\\n              WITH node\\n              MATCH (node)<-[r:!MENTIONS]-(neighbor)\\n              RETURN neighbor.id + ' - ' + type(r) + ' -> ' +  node.id AS output\\n            }\\n            RETURN output LIMIT 50\\n            \"\n",
      "Received notification from DBMS server: {severity: WARNING} {code: Neo.ClientNotification.Statement.UnknownRelationshipTypeWarning} {category: UNRECOGNIZED} {title: The provided relationship type is not in the database.} {description: One of the relationship types in your query is not available in the database, make sure you didn't misspell it or that the label is available when you run this statement in your application (the missing relationship type is: MENTIONS)} {position: line: 9, column: 33, offset: 348} for query: \"CALL db.index.fulltext.queryNodes('entity', $query, {limit:2})\\n            YIELD node,score\\n            CALL {\\n              WITH node\\n              MATCH (node)-[r:!MENTIONS]->(neighbor)\\n              RETURN node.id + ' - ' + type(r) + ' -> ' + neighbor.id AS output\\n              UNION ALL\\n              WITH node\\n              MATCH (node)<-[r:!MENTIONS]-(neighbor)\\n              RETURN neighbor.id + ' - ' + type(r) + ' -> ' +  node.id AS output\\n            }\\n            RETURN output LIMIT 50\\n            \"\n",
      "Received notification from DBMS server: {severity: WARNING} {code: Neo.ClientNotification.Statement.FeatureDeprecationWarning} {category: DEPRECATION} {title: This feature is deprecated and will be removed in future versions.} {description: CALL subquery without a variable scope clause is now deprecated. Use CALL (node, node) { ... }} {position: line: 3, column: 13, offset: 104} for query: \"CALL db.index.fulltext.queryNodes('entity', $query, {limit:2})\\n            YIELD node,score\\n            CALL {\\n              WITH node\\n              MATCH (node)-[r:!MENTIONS]->(neighbor)\\n              RETURN node.id + ' - ' + type(r) + ' -> ' + neighbor.id AS output\\n              UNION ALL\\n              WITH node\\n              MATCH (node)<-[r:!MENTIONS]-(neighbor)\\n              RETURN neighbor.id + ' - ' + type(r) + ' -> ' +  node.id AS output\\n            }\\n            RETURN output LIMIT 50\\n            \"\n",
      "Received notification from DBMS server: {severity: WARNING} {code: Neo.ClientNotification.Statement.UnknownRelationshipTypeWarning} {category: UNRECOGNIZED} {title: The provided relationship type is not in the database.} {description: One of the relationship types in your query is not available in the database, make sure you didn't misspell it or that the label is available when you run this statement in your application (the missing relationship type is: MENTIONS)} {position: line: 5, column: 32, offset: 166} for query: \"CALL db.index.fulltext.queryNodes('entity', $query, {limit:2})\\n            YIELD node,score\\n            CALL {\\n              WITH node\\n              MATCH (node)-[r:!MENTIONS]->(neighbor)\\n              RETURN node.id + ' - ' + type(r) + ' -> ' + neighbor.id AS output\\n              UNION ALL\\n              WITH node\\n              MATCH (node)<-[r:!MENTIONS]-(neighbor)\\n              RETURN neighbor.id + ' - ' + type(r) + ' -> ' +  node.id AS output\\n            }\\n            RETURN output LIMIT 50\\n            \"\n",
      "Received notification from DBMS server: {severity: WARNING} {code: Neo.ClientNotification.Statement.UnknownRelationshipTypeWarning} {category: UNRECOGNIZED} {title: The provided relationship type is not in the database.} {description: One of the relationship types in your query is not available in the database, make sure you didn't misspell it or that the label is available when you run this statement in your application (the missing relationship type is: MENTIONS)} {position: line: 9, column: 33, offset: 348} for query: \"CALL db.index.fulltext.queryNodes('entity', $query, {limit:2})\\n            YIELD node,score\\n            CALL {\\n              WITH node\\n              MATCH (node)-[r:!MENTIONS]->(neighbor)\\n              RETURN node.id + ' - ' + type(r) + ' -> ' + neighbor.id AS output\\n              UNION ALL\\n              WITH node\\n              MATCH (node)<-[r:!MENTIONS]-(neighbor)\\n              RETURN neighbor.id + ' - ' + type(r) + ' -> ' +  node.id AS output\\n            }\\n            RETURN output LIMIT 50\\n            \"\n",
      "Received notification from DBMS server: {severity: WARNING} {code: Neo.ClientNotification.Statement.FeatureDeprecationWarning} {category: DEPRECATION} {title: This feature is deprecated and will be removed in future versions.} {description: CALL subquery without a variable scope clause is now deprecated. Use CALL () { ... }} {position: line: 1, column: 1, offset: 0} for query: \"CALL { CALL db.index.vector.queryNodes($index, $k, $embedding) YIELD node, score WITH collect({node:node, score:score}) AS nodes, max(score) AS max UNWIND nodes AS n RETURN n.node AS node, (n.score / max) AS score UNION CALL db.index.fulltext.queryNodes($keyword_index, $query, {limit: $k}) YIELD node, score WITH collect({node:node, score:score}) AS nodes, max(score) AS max UNWIND nodes AS n RETURN n.node AS node, (n.score / max) AS score } WITH node, max(score) AS score ORDER BY score DESC LIMIT $k RETURN reduce(str='', k IN ['text'] | str + '\\\\n' + k + ': ' + coalesce(node[k], '')) AS text, node {.*, `embedding`: Null, id: Null, `text`: Null} AS metadata, score\"\n"
     ]
    },
    {
     "data": {
      "text/plain": [
       "'Structured data refers to data that is organized in a predefined format, such as databases or spreadsheets. Unstructured data, on the other hand, refers to data that does not have a specific format or organization, such as text documents or social media posts. \\n\\nRegarding the query, the minimum score for Duolingo is not 110.'"
      ]
     },
     "execution_count": 19,
     "metadata": {},
     "output_type": "execute_result"
    }
   ],
   "source": [
    "# True Positive\n",
    "chain.invoke({\"question\": \"Is a body temperature of 100.4°F considered a fever?\"})"
   ]
  },
  {
   "cell_type": "code",
   "execution_count": null,
   "metadata": {},
   "outputs": [],
   "source": [
    "import warnings\n",
    "import logging\n",
    "\n",
    "warnings.filterwarnings(\"ignore\")\n",
    "logging.getLogger(\"neo4j.notifications\").setLevel(logging.ERROR)"
   ]
  },
  {
   "cell_type": "code",
   "execution_count": null,
   "metadata": {},
   "outputs": [
    {
     "name": "stdout",
     "output_type": "stream",
     "text": [
      "Search query: Is a  score of 100 not sufficient for Dulingo ?\n"
     ]
    },
    {
     "data": {
      "text/plain": [
       "'Structured data: A score of 100 is not sufficient for Duolingo.\\n\\nUnstructured data: It depends on the specific requirements of the Duolingo program or course.'"
      ]
     },
     "execution_count": 21,
     "metadata": {},
     "output_type": "execute_result"
    }
   ],
   "source": [
    "# True Negative\n",
    "chain.invoke({\"question\": \"Is a body temperature of 98.6°F not considered a fever?\"})"
   ]
  },
  {
   "cell_type": "code",
   "execution_count": null,
   "metadata": {},
   "outputs": [
    {
     "name": "stdout",
     "output_type": "stream",
     "text": [
      "Search query: Is a  score of 115 not sufficient for Dulingo ?\n"
     ]
    },
    {
     "data": {
      "text/plain": [
       "'Structured data: A score of 115 is not sufficient for Duolingo.\\n\\nUnstructured data: The score of 115 is not enough for Duolingo.'"
      ]
     },
     "execution_count": 22,
     "metadata": {},
     "output_type": "execute_result"
    }
   ],
   "source": [
    "# False Negative\n",
    "chain.invoke({\"question\": \"Is a body temperature of 102°F considered normal?\"})"
   ]
  },
  {
   "cell_type": "code",
   "execution_count": null,
   "metadata": {},
   "outputs": [
    {
     "name": "stdout",
     "output_type": "stream",
     "text": [
      "Search query: Is a  score of 105 sufficient for Dulingo ?\n"
     ]
    },
    {
     "data": {
      "text/plain": [
       "'Structured data: A score of 105 is sufficient for Duolingo.\\n\\nUnstructured data: Duolingo accepts a score of 105 as sufficient.'"
      ]
     },
     "execution_count": 23,
     "metadata": {},
     "output_type": "execute_result"
    }
   ],
   "source": [
    "# False Positives\n",
    "chain.invoke({\"question\": \"Is a body temperature of 99°F considered a high fever?\"})"
   ]
  },
  {
   "cell_type": "code",
   "execution_count": null,
   "metadata": {},
   "outputs": [
    {
     "name": "stdout",
     "output_type": "stream",
     "text": [
      "Search query: Who is the Advisor for MSACS program?\n"
     ]
    },
    {
     "data": {
      "text/plain": [
       "'Structured data: The Advisor for the MSACS program is Dr. John Smith.\\n\\nUnstructured data: Information about the Advisor for the MSACS program is not readily available in a structured format.'"
      ]
     },
     "execution_count": 24,
     "metadata": {},
     "output_type": "execute_result"
    }
   ],
   "source": [
    "# Diabetes-related questions\n",
    "chain.invoke({\"question\": \"What are the common symptoms of diabetes?\"})\n",
    "chain.invoke({\"question\": \"Does a fasting blood sugar level of 126 indicate diabetes?\"})\n",
    "chain.invoke({\"question\": \"What are the long-term effects of untreated diabetes?\"})"
   ]
  },
  {
   "cell_type": "code",
   "execution_count": null,
   "metadata": {},
   "outputs": [
    {
     "name": "stdout",
     "output_type": "stream",
     "text": [
      "Search query: Is fire hot tell me T or F?\n"
     ]
    },
    {
     "data": {
      "text/plain": [
       "'True, fire is hot.'"
      ]
     },
     "execution_count": 27,
     "metadata": {},
     "output_type": "execute_result"
    }
   ],
   "source": [
    "# Cancer-related questions\n",
    "chain.invoke({\"question\": \"What are the early signs of lung cancer?\"})\n",
    "chain.invoke({\"question\": \"Can breast cancer be detected through regular mammograms?\"})\n",
    "chain.invoke({\"question\": \"What are the common treatment options for skin cancer?\"})"
   ]
  },
  {
   "cell_type": "code",
   "execution_count": null,
   "metadata": {},
   "outputs": [
    {
     "name": "stdout",
     "output_type": "stream",
     "text": [
      "Overwriting main.py\n"
     ]
    }
   ],
   "source": [
    "%%writefile main.py\n",
    "\n",
    "from langchain_core.runnables import (\n",
    "    RunnableBranch,\n",
    "    RunnableLambda,\n",
    "    RunnableParallel,\n",
    "    RunnablePassthrough,\n",
    ")\n",
    "from langchain_core.prompts import ChatPromptTemplate\n",
    "from langchain_core.prompts.prompt import PromptTemplate\n",
    "from langchain_core.pydantic_v1 import BaseModel, Field\n",
    "from typing import Tuple, List, Optional\n",
    "from langchain_core.messages import AIMessage, HumanMessage\n",
    "from langchain_core.output_parsers import StrOutputParser\n",
    "import os\n",
    "from langchain_community.graphs import Neo4jGraph\n",
    "from langchain.text_splitter import TokenTextSplitter\n",
    "from langchain_openai import ChatOpenAI\n",
    "from langchain_experimental.graph_transformers import LLMGraphTransformer\n",
    "from neo4j import GraphDatabase\n",
    "from yfiles_jupyter_graphs import GraphWidget\n",
    "from langchain_community.vectorstores import Neo4jVector\n",
    "from langchain_openai import OpenAIEmbeddings\n",
    "from langchain_community.vectorstores.neo4j_vector import remove_lucene_chars\n",
    "from langchain_core.runnables import ConfigurableField, RunnableParallel, RunnablePassthrough\n",
    "\n",
    "\n",
    "try:\n",
    "  import google.colab\n",
    "  from google.colab import output\n",
    "  output.enable_custom_widget_manager()\n",
    "except:\n",
    "  pass\n",
    "\n",
    "os.environ[\"OPENAI_API_KEY\"] = \"\"\n",
    "os.environ[\"NEO4J_URI\"] = \"\"\n",
    "os.environ[\"NEO4J_USERNAME\"] = \"neo4j\"\n",
    "os.environ[\"NEO4J_PASSWORD\"] = \"\"\n",
    "\n",
    "_search_query = RunnableLambda(lambda x : x[\"question\"])\n",
    "\n",
    "\n",
    "graph = Neo4jGraph()\n",
    "\n",
    "llm=ChatOpenAI(temperature=0, model_name=\"gpt-3.5-turbo-0125\") # gpt-4-0125-preview occasionally has issues\n",
    "llm_transformer = LLMGraphTransformer(llm=llm)\n",
    "\n",
    "vector_index = Neo4jVector.from_existing_graph(\n",
    "    OpenAIEmbeddings(),\n",
    "    search_type=\"hybrid\",\n",
    "    node_label=\"Document\",\n",
    "    text_node_properties=[\"text\"],\n",
    "    embedding_node_property=\"embedding\"\n",
    ")\n",
    "\n",
    "\n",
    "graph.query(\n",
    "    \"CREATE FULLTEXT INDEX entity IF NOT EXISTS FOR (e:__Entity__) ON EACH [e.id]\")\n",
    "\n",
    "# Extract entities from text\n",
    "class Entities(BaseModel):\n",
    "    \"\"\"Identifying information about entities.\"\"\"\n",
    "\n",
    "    names: List[str] = Field(\n",
    "        ...,\n",
    "        description=\"All the courses, requirements, or business entities that \"\n",
    "        \"appear in the text\",\n",
    "    )\n",
    "\n",
    "prompt = ChatPromptTemplate.from_messages(\n",
    "    [\n",
    "        (\n",
    "            \"system\",\n",
    "            \"You are extracting course, professors, requirements, project entities from the text.\",\n",
    "        ),\n",
    "        (\n",
    "            \"human\",\n",
    "            \"Use the given format to extract information from the following \"\n",
    "            \"input: {question}\",\n",
    "        ),\n",
    "    ]\n",
    ")\n",
    "\n",
    "entity_chain = prompt | llm.with_structured_output(Entities)\n",
    "\n",
    "def generate_full_text_query(input: str) -> str:\n",
    "    \"\"\"\n",
    "    Generate a full-text search query for a given input string.\n",
    "\n",
    "    This function constructs a query string suitable for a full-text search.\n",
    "    It processes the input string by splitting it into words and appending a\n",
    "    similarity threshold (~2 changed characters) to each word, then combines\n",
    "    them using the AND operator. Useful for mapping entities from user questions\n",
    "    to database values, and allows for some misspelings.\n",
    "    \"\"\"\n",
    "    full_text_query = \"\"\n",
    "    words = [el for el in remove_lucene_chars(input).split() if el]\n",
    "    for word in words[:-1]:\n",
    "        full_text_query += f\" {word}~2 AND\"\n",
    "    full_text_query += f\" {words[-1]}~2\"\n",
    "    return full_text_query.strip()\n",
    "\n",
    "# Fulltext index query\n",
    "def structured_retriever(question: str) -> str:\n",
    "    \"\"\"\n",
    "    Collects the neighborhood of entities mentioned\n",
    "    in the question\n",
    "    \"\"\"\n",
    "    result = \"\"\n",
    "    entities = entity_chain.invoke({\"question\": question})\n",
    "    for entity in entities.names:\n",
    "        response = graph.query(\n",
    "            \"\"\"CALL db.index.fulltext.queryNodes('entity', $query, {limit:2})\n",
    "            YIELD node,score\n",
    "            CALL {\n",
    "              WITH node\n",
    "              MATCH (node)-[r:!MENTIONS]->(neighbor)\n",
    "              RETURN node.id + ' - ' + type(r) + ' -> ' + neighbor.id AS output\n",
    "              UNION ALL\n",
    "              WITH node\n",
    "              MATCH (node)<-[r:!MENTIONS]-(neighbor)\n",
    "              RETURN neighbor.id + ' - ' + type(r) + ' -> ' +  node.id AS output\n",
    "            }\n",
    "            RETURN output LIMIT 50\n",
    "            \"\"\",\n",
    "            {\"query\": generate_full_text_query(entity)},\n",
    "        )\n",
    "        result += \"\\n\".join([el['output'] for el in response])\n",
    "    return result\n",
    "\n",
    "def retriever(question: str):\n",
    "    print(f\"Search query: {question}\")\n",
    "    structured_data = structured_retriever(question)\n",
    "    unstructured_data = [el.page_content for el in vector_index.similarity_search(question)]\n",
    "    final_data = f\"\"\" Structured data: {structured_data} Unstructured data: {\"#Document \". join(unstructured_data)}  \"\"\"\n",
    "    return final_data\n",
    "\n",
    "\n",
    "def answerquery(question: str):\n",
    "  template = \"\"\"Answer the question based only on the following context:\n",
    "  {context}\n",
    "\n",
    "  Question: {question}\n",
    "  Use natural language and be concise.\n",
    "  Answer:\"\"\"\n",
    "  prompt = ChatPromptTemplate.from_template(template)\n",
    "\n",
    "  chain = (\n",
    "      RunnableParallel(\n",
    "          {\n",
    "              \"context\": _search_query | retriever,\n",
    "              \"question\": RunnablePassthrough(),\n",
    "          }\n",
    "      )\n",
    "      | prompt\n",
    "      | llm\n",
    "      | StrOutputParser()\n",
    "  )\n",
    "\n",
    "  return chain.invoke(({\"question\": question}))\n"
   ]
  },
  {
   "cell_type": "code",
   "execution_count": null,
   "metadata": {},
   "outputs": [
    {
     "name": "stdout",
     "output_type": "stream",
     "text": [
      "Overwriting app.py\n"
     ]
    }
   ],
   "source": [
    "%%writefile app.py\n",
    "\n",
    "import streamlit as st\n",
    "from main import answerquery\n",
    "\n",
    "st.title(\"MediAssist QA Chatbot\")\n",
    "\n",
    "# Initialize chat history\n",
    "if \"messages\" not in st.session_state:\n",
    "    st.session_state.messages = []\n",
    "\n",
    "# Display chat messages from history on app rerun\n",
    "for message in st.session_state.messages:\n",
    "    with st.chat_message(message[\"role\"]):\n",
    "        st.markdown(message[\"content\"])\n",
    "\n",
    "# React to user input\n",
    "if prompt := st.text_input(\"What is up?\"):\n",
    "    # Display user message in chat message container\n",
    "    st.chat_message(\"user\").markdown(prompt)\n",
    "    # Add user message to chat history\n",
    "    st.session_state.messages.append({\"role\": \"user\", \"content\": prompt})\n",
    "\n",
    "    response = answerquery(prompt)\n",
    "    # Display assistant response in chat message container\n",
    "    with st.chat_message(\"assistant\"):\n",
    "        st.markdown(response)\n",
    "    # Add assistant response to chat history\n",
    "    st.session_state.messages.append({\"role\": \"assistant\", \"content\": response})"
   ]
  },
  {
   "cell_type": "code",
   "execution_count": null,
   "metadata": {},
   "outputs": [
    {
     "name": "stdout",
     "output_type": "stream",
     "text": [
      "Streamlit 서버가 백그라운드에서 실행 중입니다.\n"
     ]
    }
   ],
   "source": [
    "!streamlit run app.py &>/content/logs.txt &"
   ]
  },
  {
   "cell_type": "code",
   "execution_count": null,
   "metadata": {},
   "outputs": [],
   "source": [
    "!npx localtunnel --port 8501 & curl icanhazip.com"
   ]
  },
  {
   "cell_type": "code",
   "execution_count": null,
   "metadata": {},
   "outputs": [
    {
     "name": "stdout",
     "output_type": "stream",
     "text": [
      "\n",
      "up to date, audited 23 packages in 678ms\n",
      "\n",
      "3 packages are looking for funding\n",
      "  run `npm fund` for details\n",
      "\n",
      "2 moderate severity vulnerabilities\n",
      "\n",
      "To address all issues (including breaking changes), run:\n",
      "  npm audit fix --force\n",
      "\n",
      "Run `npm audit` for details.\n"
     ]
    }
   ],
   "source": [
    "!npm install localtunnel"
   ]
  }
 ],
 "metadata": {
  "kernelspec": {
   "display_name": "Python 3",
   "language": "python",
   "name": "python3"
  },
  "language_info": {
   "codemirror_mode": {
    "name": "ipython",
    "version": 3
   },
   "file_extension": ".py",
   "mimetype": "text/x-python",
   "name": "python",
   "nbconvert_exporter": "python",
   "pygments_lexer": "ipython3",
   "version": "3.12.6"
  }
 },
 "nbformat": 4,
 "nbformat_minor": 2
}
